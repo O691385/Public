{
 "cells": [
  {
   "cell_type": "code",
   "execution_count": 1,
   "metadata": {},
   "outputs": [],
   "source": [
    "import pandas as pd\n",
    "import ollama "
   ]
  },
  {
   "cell_type": "code",
   "execution_count": null,
   "metadata": {},
   "outputs": [],
   "source": [
    "df = pd.read_csv('feedback.csv', encoding='ISO-8859-1')\n",
    "df.head(2)"
   ]
  },
  {
   "cell_type": "code",
   "execution_count": 29,
   "metadata": {},
   "outputs": [],
   "source": [
    "def get_sentiment(feedback):\n",
    "    response = ollama.chat(model='llama3:8b-instruct-q8_0', messages=[\n",
    "    {\n",
    "        'role': 'user',\n",
    "        'content': f'You are an expert customer success manager. Understand the text and give the sentiment as Positive, Negative, Neutral. ONLY return the sentiment and nothing else.\\n Text: {feedback}',\n",
    "    },\n",
    "    ])\n",
    "    setiment = response['message']['content']\n",
    "    return setiment.strip()"
   ]
  },
  {
   "cell_type": "code",
   "execution_count": 30,
   "metadata": {},
   "outputs": [],
   "source": [
    "df['Sentiment'] = df['Description'].apply(get_sentiment)"
   ]
  },
  {
   "cell_type": "code",
   "execution_count": 32,
   "metadata": {},
   "outputs": [],
   "source": [
    "def get_tags(feedback):\n",
    "    response = ollama.chat(model='llama3:8b-instruct-q8_0', messages=[\n",
    "    {\n",
    "        'role': 'user',\n",
    "        'content': f'You are an expert customer success manager. Understand the text and give 1 word tags(upto 5 tags) seperated by commas. ONLY return the tags and nothing else.\\n Text: {feedback}',\n",
    "    },\n",
    "    ])\n",
    "    tags = response['message']['content']\n",
    "    return tags.strip()\n",
    "df['tags'] = df['Description'].apply(get_tags)"
   ]
  },
  {
   "cell_type": "code",
   "execution_count": null,
   "metadata": {},
   "outputs": [],
   "source": [
    "df.head(3)"
   ]
  },
  {
   "cell_type": "code",
   "execution_count": 35,
   "metadata": {},
   "outputs": [],
   "source": [
    "df.to_csv('feedback_processed.csv', index=False)"
   ]
  }
 ],
 "metadata": {
  "kernelspec": {
   "display_name": "ai_2",
   "language": "python",
   "name": "python3"
  },
  "language_info": {
   "codemirror_mode": {
    "name": "ipython",
    "version": 3
   },
   "file_extension": ".py",
   "mimetype": "text/x-python",
   "name": "python",
   "nbconvert_exporter": "python",
   "pygments_lexer": "ipython3",
   "version": "3.10.14"
  }
 },
 "nbformat": 4,
 "nbformat_minor": 2
}
