{
 "cells": [
  {
   "cell_type": "code",
   "execution_count": 21,
   "metadata": {},
   "outputs": [
    {
     "data": {
      "text/plain": [
       "True"
      ]
     },
     "execution_count": 21,
     "metadata": {},
     "output_type": "execute_result"
    }
   ],
   "source": [
    "from typing import List\n",
    "from rich.pretty import pprint\n",
    "from phi.assistant import Assistant\n",
    "from phi.tools.duckduckgo import DuckDuckGo\n",
    "from phi.llm.groq import Groq\n",
    "from dotenv import load_dotenv\n",
    "from pydantic import BaseModel, Field\n",
    "from typing import List, Optional\n",
    "from phi.llm.openai import OpenAIChat\n",
    "from phi.llm.ollama import Ollama\n",
    "load_dotenv()"
   ]
  },
  {
   "cell_type": "markdown",
   "metadata": {},
   "source": [
    "## Models for Groq\n",
    "### Llama 3\n",
    "1. llama3-8b-8192\n",
    "2. llama3-70b-8192\n",
    "3. mixtral-8x7b-32768\n",
    "4. gemma-7b-it"
   ]
  },
  {
   "cell_type": "code",
   "execution_count": 10,
   "metadata": {},
   "outputs": [],
   "source": [
    "class SearchQuery(BaseModel):\n",
    "    query: List[str] = Field(..., description=\"Query for researching via google search\")\n",
    "\n",
    "class Section(BaseModel):\n",
    "    heading: str = Field(..., description=\"The heading of this section\")\n",
    "    content: str = Field(..., description=\"The content under this heading\")\n",
    "    sub_sections: List['Section'] = Field(default_factory=list, description=\"Sub-sections under this section\")\n",
    "    \n",
    "    def to_markdown(self, level=2) -> str:\n",
    "        markdown = f\"{'#' * level} {self.heading}\\n\\n{self.content}\\n\\n\"\n",
    "        for sub_section in self.sub_sections:\n",
    "            markdown += sub_section.to_markdown(level + 1)\n",
    "        return markdown\n",
    "\n",
    "class ArticleData(BaseModel):\n",
    "    title: str = Field(..., description=\"The title of the article\")\n",
    "    subtitle: Optional[str] = Field(None, description=\"The subtitle of the article, optional\")\n",
    "    keywords: List[str] = Field(..., description=\"List of keywords for SEO purposes\")\n",
    "    sections: List[Section] = Field(..., description=\"List of main sections in the article\")\n",
    "    summary: Optional[str] = Field(None, description=\"A brief summary or conclusion of the article, optional\")\n",
    "\n",
    "    def to_markdown(self) -> str:\n",
    "        markdown = f\"# {self.title}\\n\\n\"\n",
    "        if self.subtitle:\n",
    "            markdown += f\"## {self.subtitle}\\n\\n\"\n",
    "        if self.keywords:\n",
    "            markdown += f\"**Keywords:** {', '.join(self.keywords)}\\n\\n\"\n",
    "        for section in self.sections:\n",
    "            markdown += section.to_markdown()\n",
    "        if self.summary:\n",
    "            markdown += f\"## Summary\\n\\n{self.summary}\\n\\n\"\n",
    "        return markdown\n"
   ]
  },
  {
   "cell_type": "code",
   "execution_count": 23,
   "metadata": {},
   "outputs": [
    {
     "name": "stdout",
     "output_type": "stream",
     "text": [
      "query=['1 million dollar HDB in Singapore latest news', 'Singapore HDB resale prices trends', 'Luxury HDB in Singapore', 'Factors affecting HDB prices in Singapore', 'Singapore HDB market analysis']\n",
      "Here is my response based on the tool call I made earlier:\n",
      "\n",
      "The latest news on 1 million dollar HDB in Singapore indicates that there has been an increase in resale transactions of HDB flats crossing the S$1 million mark. According to recent reports, 68 HDB flats were resold for over S$1M in April alone, which is a significant 11% month-on-month increase.\n",
      "\n",
      "Additionally, data shows that 467 HDB flats across 22 estates transacted at $1 million or higher in 2023, breaking past records. The resale market for HDB flats remains red-hot, with many analysts expecting more transactions to cross the S$1M mark in the coming months.\n",
      "\n",
      "It's worth noting that not all towns have seen a million-dollar resale transaction yet. However, experts believe it's only a matter of time before this happens in the last four towns that haven't achieved this milestone.\n",
      "\n",
      "For those considering purchasing an HDB flat, there are pros and cons to weigh when deciding whether to opt for a S$1M resale flat instead of a newer property. The key reason behind the popularity of million-dollar HDB flats lies in their location and proximity to amenities.\n",
      "\n",
      "Stay tuned for more updates on the Singaporean real estate market!Based on my analysis using the tool \"DuckDuckGo Search\", I found that there are several online resources and news articles that provide information on Singapore HDB resale prices trends. Here's a summary of what I found:\n",
      "\n",
      "The Housing & Development Board (HDB) provides resale statistics, which can help individuals get a better idea of the market movements and make informed decisions. The median resale prices for registered resale applications are available by town and flat type.\n",
      "\n",
      "According to recent news articles, HDB resale prices have been rising. For example, in Q1 2024, prices rose by 1.7%, higher than the previous quarter's growth of 1.1%. In 2022, HDB resale prices increased by 10.4%, which is slower compared to 2021's growth rate of 12.7%.\n",
      "\n",
      "Additionally, there are some online resources that provide price guides and information on specific areas, such as PropertyGuru's Singapore Resale HDB Price Guide.\n",
      "\n",
      "It seems that HDB resale prices have been rising in recent years, but the growth rate has slowed down slightly. If you're considering purchasing or selling an HDB flat, it's essential to stay informed about the market trends and statistics.\n",
      "\n",
      "Please let me know if you'd like more information or specific data on a particular topic!It seems like you're looking for luxury HDB options in Singapore! According to our search results, there are several options available.\n",
      "\n",
      "For instance, we found 7,100 HDB flats for sale in Singapore on PropertyGuru. If you're looking for something more luxurious, there are also executive apartments and jumbo flats with estimated max sizes of up to 179 sqm (for EAs) and 192 sqm (jumbo flats). These mega-sized houses boast plenty of living space and major style!\n",
      "\n",
      "Additionally, Sotheby's International Realty offers luxury real estate options in Singapore, including the Skyline @ Orchard Boulevard Exclusive Luxury Apartment for a whopping $12,977,941.\n",
      "\n",
      "If you're specifically looking for HDB flats with 5+ bedrooms, there are 74 available on PropertyGuru. And if you want to explore more executive apartment options, Number One Property has some beautiful spaces that combine luxury and functionality.\n",
      "\n",
      "Would you like me to help you narrow down your search or provide more information about these options?Based on the search results from DuckDuckGo, several factors are contributing to the rising HDB resale prices in Singapore. Some of these factors include:\n",
      "\n",
      "1. Supply and demand imbalance: The supply of BTO flats has increased by 35% in recent years, but the demand for housing remains strong.\n",
      "2. Cooling measures: The government's cooling measures, such as increasing stamp duties and restricting lending, have had a limited impact on prices.\n",
      "3. Location: HDB resale prices vary greatly depending on location, with prices being higher in popular areas like Singapore's central region.\n",
      "4. Quality and age of the flat: Newer and better-quality flats tend to command higher prices.\n",
      "\n",
      "These factors are driving up HDB resale prices, with some areas seeing increases of over 10% in recent years. It is essential for homeowners and aspiring buyers to be aware of these trends and consider them when making decisions about buying or selling an HDB flat.\n",
      "\n",
      "Source:\n",
      "- \"HDB Resale Prices: Why Are They Rising in 2024? [Info Guide]\" by Roshi SG\n",
      "- \"What Is The HDB Resale Price Index? 2023 Guide For Homeowners (To-Be...)\" by Yahoo Finance\n",
      "- \"The impact of cooling measures: How HDB resale prices have... - CNA\" by Channel News Asia\n",
      "- \"Data-Driven Approach to Understanding HDB Resale Prices in Singapore...\" by Towards Data Science\n",
      "- \"IN FOCUS: What is pushing HDB resale prices higher? - CNA\" by Channel News AsiaBased on my research, it appears that the Singapore HDB (Housing and Development Board) market is a complex and dynamic entity. From what I've gathered from the sources provided, here are some key insights:\n",
      "\n",
      "1. Resale prices: The resale price of HDB flats fluctuates based on market conditions. According to the Housing and Development Board's Resale Price Index (RPI), the overall price movement of public housing in Singapore has been increasing over the years.\n",
      "2. Factors influencing resale prices: Various factors contribute to the fluctuations in resale prices, including location, flat type, model, storey range, floor area, remaining years on lease, and distance from nearby MRT stations.\n",
      "3. Data-driven approach: A data-driven approach can be used to better understand HDB resale prices by analyzing trends and patterns over time. This can help identify factors that drive price changes.\n",
      "\n",
      "To further analyze the Singapore HDB market, I recommend exploring the following:\n",
      "\n",
      "1. Resale statistics provided by the Housing and Development Board (HDB).\n",
      "2. Analyzing HDB resale prices across different towns and flat types to identify trends and insights.\n",
      "3. Examining key statistics on public housing in Singapore, including percentages of resident population living in HDB sold flats, bookings for new flats, applications registered for resale flats, households benefiting from the CPF Housing Grant, and more.\n",
      "\n",
      "By considering these factors and statistics, you can gain a better understanding of the Singapore HDB market and make informed decisions about your investment.\n",
      "# The Rise of Million-Dollar HDB Flats in Singapore\n",
      "\n",
      "## Exploring the Surge in High-Value Public Housing Transactions\n",
      "\n",
      "**Keywords:** Million Dollar HDB, Singapore Real Estate, HDB Resale Market, Luxury Public Housing, Property Investment\n",
      "\n",
      "## Introduction to Million-Dollar HDB Flats\n",
      "\n",
      "In recent years, the Singaporean real estate market has witnessed a remarkable trend: the rise of HDB flats selling for over S$1 million. This phenomenon reflects significant shifts in the public housing landscape, driven by various factors including location, unique features, and market dynamics.\n",
      "\n",
      "## Recent Trends and Data\n",
      "\n",
      "The year 2023 has set new records in the resale market for HDB flats, with 467 transactions crossing the S$1 million threshold across 22 estates. This surge represents an 11% increase from the previous month, highlighting a robust demand for premium public housing options.\n",
      "\n",
      "## Factors Driving High-Value Sales\n",
      "\n",
      "Several key factors contribute to the high resale prices of these flats. Prime locations, proximity to amenities, unique architectural features, and extensive renovations play crucial roles. Additionally, limited supply of such premium units in desirable neighborhoods adds to their exclusivity and high demand.\n",
      "\n",
      "## Implications for Buyers and the Market\n",
      "\n",
      "The emergence of million-dollar HDB flats has significant implications for potential buyers and the broader real estate market. It challenges the traditional view of public housing and raises questions about affordability and value perception in Singapore's urban landscape.\n",
      "\n",
      "### Pros and Cons for Buyers\n",
      "\n",
      "For buyers, purchasing a million-dollar HDB flat can be a substantial investment with potential long-term benefits due to the property's location and features. However, it also involves higher financial outlays and risks associated with market fluctuations.\n",
      "\n",
      "### Impact on the Real Estate Market\n",
      "\n",
      "This trend may influence future public housing policies and the development of new HDB projects. It could lead to a reevaluation of the pricing strategies and the introduction of more premium public housing options to meet growing demand.\n",
      "\n",
      "## Future Outlook\n",
      "\n",
      "The trend of million-dollar HDB flats is expected to continue as Singapore's real estate market evolves. Urban redevelopment, enhancements in living standards, and the increasing attractiveness of well-located HDB estates are likely to further drive up prices in the premium segment.\n",
      "\n",
      "## Summary\n",
      "\n",
      "The rise of million-dollar HDB flats in Singapore marks a significant shift in the public housing market, reflecting broader trends in urban living and real estate investment. As the market continues to evolve, these high-value transactions are expected to become more common, shaping the future landscape of Singapore's housing sector.\n",
      "\n",
      "\n"
     ]
    }
   ],
   "source": [
    "assistant = Assistant(\n",
    "    llm=OpenAIChat(model=\"gpt-3.5-turbo\", max_tokens=500, temperature=0.5),\n",
    "    description=\" You are a researcher and adapt in searching Google for latest trends. For a given query return max 5 searches you would do on Google to understand more on latest news and trends. Today's date is 7th May 2024, Have a heavy bias on lates news and trends till last month.\",\n",
    "    #tools=[DuckDuckGo()],\n",
    "    show_tool_calls=False,\n",
    "    output_model=SearchQuery,\n",
    ")\n",
    "#assistant.print_response(\"1 million dollar plus HDB in singapore? Include the latest data as well.\", markdown=True, stream=False)\n",
    "search_terms = assistant.run(\"1 million dollar plus HDB in singapore? Include the latest data as well.\",stream=False)\n",
    "print(search_terms)\n",
    "\n",
    "assistant_searcher = Assistant(\n",
    "    llm=Ollama(model=\"llama3:8b-instruct-q8_0\"),\n",
    "    description=\" You are a famous real estate journalist & though leader working with PropertyGuru which is a real estate marketplace like zillow. Where possible give citations.\",\n",
    "    tools=[DuckDuckGo()],\n",
    "    show_tool_calls=False,\n",
    ")\n",
    "context=\"\"\n",
    "for query in search_terms.query:\n",
    "    context += assistant_searcher.run(query,stream=False)\n",
    "print(context)\n",
    "\n",
    "assistant_writer = Assistant(\n",
    "    llm=OpenAIChat(model=\"gpt-4-turbo\",temperature=0.3),\n",
    "    description=\" You are a famous real estate journalist & though leader working with PropertyGuru which is a real estate marketplace like zillow. You are tasked to Write a DETAILED article on given topic. Use the context provided and use your own knowledge to write the article.\",\n",
    "    output_model=ArticleData\n",
    ")\n",
    "article = assistant_writer.run(f\"Write an article on million dollar plus HDB in singapore. \\n ###Additional Context: \\n {context}\")\n",
    "print(article.to_markdown())"
   ]
  },
  {
   "cell_type": "code",
   "execution_count": 24,
   "metadata": {},
   "outputs": [
    {
     "name": "stdout",
     "output_type": "stream",
     "text": [
      "# The Rise of Million-Dollar HDB Flats in Singapore\n",
      "\n",
      "## Exploring the Surge in High-Value Public Housing Transactions\n",
      "\n",
      "**Keywords:** Million Dollar HDB, Singapore Real Estate, HDB Resale Market, Luxury Public Housing, Property Investment\n",
      "\n",
      "## Introduction to Million-Dollar HDB Flats\n",
      "\n",
      "In recent years, the Singaporean real estate market has witnessed a remarkable trend: the rise of HDB flats selling for over S$1 million. This phenomenon reflects significant shifts in the public housing landscape, driven by various factors including location, unique features, and market dynamics.\n",
      "\n",
      "## Recent Trends and Data\n",
      "\n",
      "The year 2023 has set new records in the resale market for HDB flats, with 467 transactions crossing the S$1 million threshold across 22 estates. This surge represents an 11% increase from the previous month, highlighting a robust demand for premium public housing options.\n",
      "\n",
      "## Factors Driving High-Value Sales\n",
      "\n",
      "Several key factors contribute to the high resale prices of these flats. Prime locations, proximity to amenities, unique architectural features, and extensive renovations play crucial roles. Additionally, limited supply of such premium units in desirable neighborhoods adds to their exclusivity and high demand.\n",
      "\n",
      "## Implications for Buyers and the Market\n",
      "\n",
      "The emergence of million-dollar HDB flats has significant implications for potential buyers and the broader real estate market. It challenges the traditional view of public housing and raises questions about affordability and value perception in Singapore's urban landscape.\n",
      "\n",
      "### Pros and Cons for Buyers\n",
      "\n",
      "For buyers, purchasing a million-dollar HDB flat can be a substantial investment with potential long-term benefits due to the property's location and features. However, it also involves higher financial outlays and risks associated with market fluctuations.\n",
      "\n",
      "### Impact on the Real Estate Market\n",
      "\n",
      "This trend may influence future public housing policies and the development of new HDB projects. It could lead to a reevaluation of the pricing strategies and the introduction of more premium public housing options to meet growing demand.\n",
      "\n",
      "## Future Outlook\n",
      "\n",
      "The trend of million-dollar HDB flats is expected to continue as Singapore's real estate market evolves. Urban redevelopment, enhancements in living standards, and the increasing attractiveness of well-located HDB estates are likely to further drive up prices in the premium segment.\n",
      "\n",
      "## Summary\n",
      "\n",
      "The rise of million-dollar HDB flats in Singapore marks a significant shift in the public housing market, reflecting broader trends in urban living and real estate investment. As the market continues to evolve, these high-value transactions are expected to become more common, shaping the future landscape of Singapore's housing sector.\n",
      "\n",
      "\n"
     ]
    }
   ],
   "source": [
    "print(article.to_markdown())"
   ]
  },
  {
   "cell_type": "code",
   "execution_count": 35,
   "metadata": {},
   "outputs": [
    {
     "data": {
      "text/html": [
       "<pre style=\"white-space:pre;overflow-x:auto;line-height:normal;font-family:Menlo,'DejaVu Sans Mono',consolas,'Courier New',monospace\"><span style=\"color: #008000; text-decoration-color: #008000\">DEBUG   </span> Debug logs enabled                                                                                        \n",
       "</pre>\n"
      ],
      "text/plain": [
       "\u001b[32mDEBUG   \u001b[0m Debug logs enabled                                                                                        \n"
      ]
     },
     "metadata": {},
     "output_type": "display_data"
    },
    {
     "data": {
      "text/html": [
       "<pre style=\"white-space:pre;overflow-x:auto;line-height:normal;font-family:Menlo,'DejaVu Sans Mono',consolas,'Courier New',monospace\"><span style=\"color: #008000; text-decoration-color: #008000\">DEBUG   </span> *********** Workflow Run Start: <span style=\"color: #ffff00; text-decoration-color: #ffff00\">d76afcb3-eb35-4205-93a0-9cce90c6741e</span> ***********                          \n",
       "</pre>\n"
      ],
      "text/plain": [
       "\u001b[32mDEBUG   \u001b[0m *********** Workflow Run Start: \u001b[93md76afcb3-eb35-4205-93a0-9cce90c6741e\u001b[0m ***********                          \n"
      ]
     },
     "metadata": {},
     "output_type": "display_data"
    },
    {
     "data": {
      "text/html": [
       "<pre style=\"white-space:pre;overflow-x:auto;line-height:normal;font-family:Menlo,'DejaVu Sans Mono',consolas,'Courier New',monospace\"><span style=\"color: #008000; text-decoration-color: #008000\">DEBUG   </span> *********** Task <span style=\"color: #008080; text-decoration-color: #008080; font-weight: bold\">1</span> Start ***********                                                                      \n",
       "</pre>\n"
      ],
      "text/plain": [
       "\u001b[32mDEBUG   \u001b[0m *********** Task \u001b[1;36m1\u001b[0m Start ***********                                                                      \n"
      ]
     },
     "metadata": {},
     "output_type": "display_data"
    },
    {
     "data": {
      "text/html": [
       "<pre style=\"white-space:pre;overflow-x:auto;line-height:normal;font-family:Menlo,'DejaVu Sans Mono',consolas,'Courier New',monospace\"><span style=\"color: #008000; text-decoration-color: #008000\">DEBUG   </span> Setting <span style=\"color: #808000; text-decoration-color: #808000\">stream</span>=<span style=\"color: #ff0000; text-decoration-color: #ff0000; font-style: italic\">False</span> as output_model is set                                                               \n",
       "</pre>\n"
      ],
      "text/plain": [
       "\u001b[32mDEBUG   \u001b[0m Setting \u001b[33mstream\u001b[0m=\u001b[3;91mFalse\u001b[0m as output_model is set                                                               \n"
      ]
     },
     "metadata": {},
     "output_type": "display_data"
    },
    {
     "data": {
      "text/html": [
       "<pre style=\"white-space:pre;overflow-x:auto;line-height:normal;font-family:Menlo,'DejaVu Sans Mono',consolas,'Courier New',monospace\"><span style=\"color: #008000; text-decoration-color: #008000\">DEBUG   </span> *********** Assistant Run Start: <span style=\"color: #ffff00; text-decoration-color: #ffff00\">fb46b8ea-257f-451e-8483-31f90789f218</span> ***********                         \n",
       "</pre>\n"
      ],
      "text/plain": [
       "\u001b[32mDEBUG   \u001b[0m *********** Assistant Run Start: \u001b[93mfb46b8ea-257f-451e-8483-31f90789f218\u001b[0m ***********                         \n"
      ]
     },
     "metadata": {},
     "output_type": "display_data"
    },
    {
     "data": {
      "text/html": [
       "<pre style=\"white-space:pre;overflow-x:auto;line-height:normal;font-family:Menlo,'DejaVu Sans Mono',consolas,'Courier New',monospace\"><span style=\"color: #008000; text-decoration-color: #008000\">DEBUG   </span> Functions from duckduckgo added to LLM.                                                                   \n",
       "</pre>\n"
      ],
      "text/plain": [
       "\u001b[32mDEBUG   \u001b[0m Functions from duckduckgo added to LLM.                                                                   \n"
      ]
     },
     "metadata": {},
     "output_type": "display_data"
    },
    {
     "data": {
      "text/html": [
       "<pre style=\"white-space:pre;overflow-x:auto;line-height:normal;font-family:Menlo,'DejaVu Sans Mono',consolas,'Courier New',monospace\"><span style=\"color: #008000; text-decoration-color: #008000\">DEBUG   </span> ---------- OpenAI Response Start ----------                                                               \n",
       "</pre>\n"
      ],
      "text/plain": [
       "\u001b[32mDEBUG   \u001b[0m ---------- OpenAI Response Start ----------                                                               \n"
      ]
     },
     "metadata": {},
     "output_type": "display_data"
    },
    {
     "data": {
      "text/html": [
       "<pre style=\"white-space:pre;overflow-x:auto;line-height:normal;font-family:Menlo,'DejaVu Sans Mono',consolas,'Courier New',monospace\"><span style=\"color: #008000; text-decoration-color: #008000\">DEBUG   </span> ============== system ==============                                                                      \n",
       "</pre>\n"
      ],
      "text/plain": [
       "\u001b[32mDEBUG   \u001b[0m ============== system ==============                                                                      \n"
      ]
     },
     "metadata": {},
     "output_type": "display_data"
    },
    {
     "data": {
      "text/html": [
       "<pre style=\"white-space:pre;overflow-x:auto;line-height:normal;font-family:Menlo,'DejaVu Sans Mono',consolas,'Courier New',monospace\"><span style=\"color: #008000; text-decoration-color: #008000\">DEBUG   </span> Given a topic, search for <span style=\"color: #008080; text-decoration-color: #008080; font-weight: bold\">15</span> articles and return the <span style=\"color: #008080; text-decoration-color: #008080; font-weight: bold\">7</span> most relevant articles.                            \n",
       "         Your task is: Find the <span style=\"color: #008080; text-decoration-color: #008080; font-weight: bold\">7</span> most relevant articles on a topic.                                               \n",
       "                                                                                                                   \n",
       "                                                                                                                   \n",
       "         Provide your output as a JSON containing the following fields:                                            \n",
       "         <span style=\"font-weight: bold\">&lt;</span><span style=\"color: #ff00ff; text-decoration-color: #ff00ff; font-weight: bold\">json_fields</span><span style=\"color: #000000; text-decoration-color: #000000\">&gt;</span>                                                                                             \n",
       "         <span style=\"color: #000000; text-decoration-color: #000000; font-weight: bold\">[</span><span style=\"color: #008000; text-decoration-color: #008000\">\"title\"</span><span style=\"color: #000000; text-decoration-color: #000000\">, </span><span style=\"color: #008000; text-decoration-color: #008000\">\"url\"</span><span style=\"color: #000000; text-decoration-color: #000000\">, </span><span style=\"color: #008000; text-decoration-color: #008000\">\"summary\"</span><span style=\"color: #000000; text-decoration-color: #000000; font-weight: bold\">]</span>                                                                               \n",
       "         <span style=\"color: #000000; text-decoration-color: #000000\">&lt;</span><span style=\"color: #800080; text-decoration-color: #800080\">/</span><span style=\"color: #ff00ff; text-decoration-color: #ff00ff\">json_fields</span><span style=\"color: #000000; text-decoration-color: #000000\">&gt;</span>                                                                                            \n",
       "         <span style=\"color: #000000; text-decoration-color: #000000\">Here are the properties for each field:</span>                                                                   \n",
       "         <span style=\"color: #000000; text-decoration-color: #000000\">&lt;json_field_properties&gt;</span>                                                                                   \n",
       "         <span style=\"color: #000000; text-decoration-color: #000000; font-weight: bold\">{</span>                                                                                                         \n",
       "         <span style=\"color: #000000; text-decoration-color: #000000\">  </span><span style=\"color: #008000; text-decoration-color: #008000\">\"title\"</span><span style=\"color: #000000; text-decoration-color: #000000\">: </span><span style=\"color: #000000; text-decoration-color: #000000; font-weight: bold\">{</span>                                                                                              \n",
       "         <span style=\"color: #000000; text-decoration-color: #000000\">    </span><span style=\"color: #008000; text-decoration-color: #008000\">\"description\"</span><span style=\"color: #000000; text-decoration-color: #000000\">: </span><span style=\"color: #008000; text-decoration-color: #008000\">\"Title of the article.\"</span><span style=\"color: #000000; text-decoration-color: #000000\">,</span>                                                               \n",
       "         <span style=\"color: #000000; text-decoration-color: #000000\">    </span><span style=\"color: #008000; text-decoration-color: #008000\">\"type\"</span><span style=\"color: #000000; text-decoration-color: #000000\">: </span><span style=\"color: #008000; text-decoration-color: #008000\">\"string\"</span>                                                                                      \n",
       "         <span style=\"color: #000000; text-decoration-color: #000000\">  </span><span style=\"color: #000000; text-decoration-color: #000000; font-weight: bold\">}</span><span style=\"color: #000000; text-decoration-color: #000000\">,</span>                                                                                                      \n",
       "         <span style=\"color: #000000; text-decoration-color: #000000\">  </span><span style=\"color: #008000; text-decoration-color: #008000\">\"url\"</span><span style=\"color: #000000; text-decoration-color: #000000\">: </span><span style=\"color: #000000; text-decoration-color: #000000; font-weight: bold\">{</span>                                                                                                \n",
       "         <span style=\"color: #000000; text-decoration-color: #000000\">    </span><span style=\"color: #008000; text-decoration-color: #008000\">\"description\"</span><span style=\"color: #000000; text-decoration-color: #000000\">: </span><span style=\"color: #008000; text-decoration-color: #008000\">\"Link to the article.\"</span><span style=\"color: #000000; text-decoration-color: #000000\">,</span>                                                                \n",
       "         <span style=\"color: #000000; text-decoration-color: #000000\">    </span><span style=\"color: #008000; text-decoration-color: #008000\">\"type\"</span><span style=\"color: #000000; text-decoration-color: #000000\">: </span><span style=\"color: #008000; text-decoration-color: #008000\">\"string\"</span>                                                                                      \n",
       "         <span style=\"color: #000000; text-decoration-color: #000000\">  </span><span style=\"color: #000000; text-decoration-color: #000000; font-weight: bold\">}</span><span style=\"color: #000000; text-decoration-color: #000000\">,</span>                                                                                                      \n",
       "         <span style=\"color: #000000; text-decoration-color: #000000\">  </span><span style=\"color: #008000; text-decoration-color: #008000\">\"summary\"</span><span style=\"color: #000000; text-decoration-color: #000000\">: </span><span style=\"color: #000000; text-decoration-color: #000000; font-weight: bold\">{</span>                                                                                            \n",
       "         <span style=\"color: #000000; text-decoration-color: #000000\">    </span><span style=\"color: #008000; text-decoration-color: #008000\">\"anyOf\"</span><span style=\"color: #000000; text-decoration-color: #000000\">: </span><span style=\"color: #000000; text-decoration-color: #000000; font-weight: bold\">[</span>                                                                                            \n",
       "         <span style=\"color: #000000; text-decoration-color: #000000\">      </span><span style=\"color: #000000; text-decoration-color: #000000; font-weight: bold\">{</span>                                                                                                   \n",
       "         <span style=\"color: #000000; text-decoration-color: #000000\">        </span><span style=\"color: #008000; text-decoration-color: #008000\">\"type\"</span><span style=\"color: #000000; text-decoration-color: #000000\">: </span><span style=\"color: #008000; text-decoration-color: #008000\">\"string\"</span>                                                                                  \n",
       "         <span style=\"color: #000000; text-decoration-color: #000000\">      </span><span style=\"color: #000000; text-decoration-color: #000000; font-weight: bold\">}</span><span style=\"color: #000000; text-decoration-color: #000000\">,</span>                                                                                                  \n",
       "         <span style=\"color: #000000; text-decoration-color: #000000\">      </span><span style=\"color: #000000; text-decoration-color: #000000; font-weight: bold\">{</span>                                                                                                   \n",
       "         <span style=\"color: #000000; text-decoration-color: #000000\">        </span><span style=\"color: #008000; text-decoration-color: #008000\">\"type\"</span><span style=\"color: #000000; text-decoration-color: #000000\">: </span><span style=\"color: #008000; text-decoration-color: #008000\">\"null\"</span>                                                                                    \n",
       "         <span style=\"color: #000000; text-decoration-color: #000000\">      </span><span style=\"color: #000000; text-decoration-color: #000000; font-weight: bold\">}</span>                                                                                                   \n",
       "         <span style=\"color: #000000; text-decoration-color: #000000\">    </span><span style=\"color: #000000; text-decoration-color: #000000; font-weight: bold\">]</span><span style=\"color: #000000; text-decoration-color: #000000\">,</span>                                                                                                    \n",
       "         <span style=\"color: #000000; text-decoration-color: #000000\">    </span><span style=\"color: #008000; text-decoration-color: #008000\">\"description\"</span><span style=\"color: #000000; text-decoration-color: #000000\">: </span><span style=\"color: #008000; text-decoration-color: #008000\">\"Summary of the article if available.\"</span>                                                 \n",
       "         <span style=\"color: #000000; text-decoration-color: #000000\">  </span><span style=\"color: #000000; text-decoration-color: #000000; font-weight: bold\">}</span>                                                                                                       \n",
       "         <span style=\"color: #000000; text-decoration-color: #000000; font-weight: bold\">}</span>                                                                                                         \n",
       "         <span style=\"color: #000000; text-decoration-color: #000000\">&lt;</span><span style=\"color: #800080; text-decoration-color: #800080\">/</span><span style=\"color: #ff00ff; text-decoration-color: #ff00ff\">json_field_properties</span><span style=\"font-weight: bold\">&gt;</span>                                                                                  \n",
       "         Start your response with `<span style=\"font-weight: bold\">{</span>` and end it with `<span style=\"font-weight: bold\">}</span>`.                                                         \n",
       "         Your output will be passed to <span style=\"color: #800080; text-decoration-color: #800080; font-weight: bold\">json.loads</span><span style=\"font-weight: bold\">()</span> to convert it to a Python object.                              \n",
       "         Make sure it only contains valid JSON.                                                                    \n",
       "</pre>\n"
      ],
      "text/plain": [
       "\u001b[32mDEBUG   \u001b[0m Given a topic, search for \u001b[1;36m15\u001b[0m articles and return the \u001b[1;36m7\u001b[0m most relevant articles.                            \n",
       "         Your task is: Find the \u001b[1;36m7\u001b[0m most relevant articles on a topic.                                               \n",
       "                                                                                                                   \n",
       "                                                                                                                   \n",
       "         Provide your output as a JSON containing the following fields:                                            \n",
       "         \u001b[1m<\u001b[0m\u001b[1;95mjson_fields\u001b[0m\u001b[39m>\u001b[0m                                                                                             \n",
       "         \u001b[1;39m[\u001b[0m\u001b[32m\"title\"\u001b[0m\u001b[39m, \u001b[0m\u001b[32m\"url\"\u001b[0m\u001b[39m, \u001b[0m\u001b[32m\"summary\"\u001b[0m\u001b[1;39m]\u001b[0m                                                                               \n",
       "         \u001b[39m<\u001b[0m\u001b[35m/\u001b[0m\u001b[95mjson_fields\u001b[0m\u001b[39m>\u001b[0m                                                                                            \n",
       "         \u001b[39mHere are the properties for each field:\u001b[0m                                                                   \n",
       "         \u001b[39m<json_field_properties>\u001b[0m                                                                                   \n",
       "         \u001b[1;39m{\u001b[0m                                                                                                         \n",
       "         \u001b[39m  \u001b[0m\u001b[32m\"title\"\u001b[0m\u001b[39m: \u001b[0m\u001b[1;39m{\u001b[0m                                                                                              \n",
       "         \u001b[39m    \u001b[0m\u001b[32m\"description\"\u001b[0m\u001b[39m: \u001b[0m\u001b[32m\"Title of the article.\"\u001b[0m\u001b[39m,\u001b[0m                                                               \n",
       "         \u001b[39m    \u001b[0m\u001b[32m\"type\"\u001b[0m\u001b[39m: \u001b[0m\u001b[32m\"string\"\u001b[0m                                                                                      \n",
       "         \u001b[39m  \u001b[0m\u001b[1;39m}\u001b[0m\u001b[39m,\u001b[0m                                                                                                      \n",
       "         \u001b[39m  \u001b[0m\u001b[32m\"url\"\u001b[0m\u001b[39m: \u001b[0m\u001b[1;39m{\u001b[0m                                                                                                \n",
       "         \u001b[39m    \u001b[0m\u001b[32m\"description\"\u001b[0m\u001b[39m: \u001b[0m\u001b[32m\"Link to the article.\"\u001b[0m\u001b[39m,\u001b[0m                                                                \n",
       "         \u001b[39m    \u001b[0m\u001b[32m\"type\"\u001b[0m\u001b[39m: \u001b[0m\u001b[32m\"string\"\u001b[0m                                                                                      \n",
       "         \u001b[39m  \u001b[0m\u001b[1;39m}\u001b[0m\u001b[39m,\u001b[0m                                                                                                      \n",
       "         \u001b[39m  \u001b[0m\u001b[32m\"summary\"\u001b[0m\u001b[39m: \u001b[0m\u001b[1;39m{\u001b[0m                                                                                            \n",
       "         \u001b[39m    \u001b[0m\u001b[32m\"anyOf\"\u001b[0m\u001b[39m: \u001b[0m\u001b[1;39m[\u001b[0m                                                                                            \n",
       "         \u001b[39m      \u001b[0m\u001b[1;39m{\u001b[0m                                                                                                   \n",
       "         \u001b[39m        \u001b[0m\u001b[32m\"type\"\u001b[0m\u001b[39m: \u001b[0m\u001b[32m\"string\"\u001b[0m                                                                                  \n",
       "         \u001b[39m      \u001b[0m\u001b[1;39m}\u001b[0m\u001b[39m,\u001b[0m                                                                                                  \n",
       "         \u001b[39m      \u001b[0m\u001b[1;39m{\u001b[0m                                                                                                   \n",
       "         \u001b[39m        \u001b[0m\u001b[32m\"type\"\u001b[0m\u001b[39m: \u001b[0m\u001b[32m\"null\"\u001b[0m                                                                                    \n",
       "         \u001b[39m      \u001b[0m\u001b[1;39m}\u001b[0m                                                                                                   \n",
       "         \u001b[39m    \u001b[0m\u001b[1;39m]\u001b[0m\u001b[39m,\u001b[0m                                                                                                    \n",
       "         \u001b[39m    \u001b[0m\u001b[32m\"description\"\u001b[0m\u001b[39m: \u001b[0m\u001b[32m\"Summary of the article if available.\"\u001b[0m                                                 \n",
       "         \u001b[39m  \u001b[0m\u001b[1;39m}\u001b[0m                                                                                                       \n",
       "         \u001b[1;39m}\u001b[0m                                                                                                         \n",
       "         \u001b[39m<\u001b[0m\u001b[35m/\u001b[0m\u001b[95mjson_field_properties\u001b[0m\u001b[1m>\u001b[0m                                                                                  \n",
       "         Start your response with `\u001b[1m{\u001b[0m` and end it with `\u001b[1m}\u001b[0m`.                                                         \n",
       "         Your output will be passed to \u001b[1;35mjson.loads\u001b[0m\u001b[1m(\u001b[0m\u001b[1m)\u001b[0m to convert it to a Python object.                              \n",
       "         Make sure it only contains valid JSON.                                                                    \n"
      ]
     },
     "metadata": {},
     "output_type": "display_data"
    },
    {
     "data": {
      "text/html": [
       "<pre style=\"white-space:pre;overflow-x:auto;line-height:normal;font-family:Menlo,'DejaVu Sans Mono',consolas,'Courier New',monospace\"><span style=\"color: #008000; text-decoration-color: #008000\">DEBUG   </span> ============== user ==============                                                                        \n",
       "</pre>\n"
      ],
      "text/plain": [
       "\u001b[32mDEBUG   \u001b[0m ============== user ==============                                                                        \n"
      ]
     },
     "metadata": {},
     "output_type": "display_data"
    },
    {
     "data": {
      "text/html": [
       "<pre style=\"white-space:pre;overflow-x:auto;line-height:normal;font-family:Menlo,'DejaVu Sans Mono',consolas,'Courier New',monospace\"><span style=\"color: #008000; text-decoration-color: #008000\">DEBUG   </span> Hashicorp IBM acquisition                                                                                 \n",
       "</pre>\n"
      ],
      "text/plain": [
       "\u001b[32mDEBUG   \u001b[0m Hashicorp IBM acquisition                                                                                 \n"
      ]
     },
     "metadata": {},
     "output_type": "display_data"
    },
    {
     "data": {
      "application/vnd.jupyter.widget-view+json": {
       "model_id": "8013017ba08c429ba797f5012921ebd3",
       "version_major": 2,
       "version_minor": 0
      },
      "text/plain": [
       "Output()"
      ]
     },
     "metadata": {},
     "output_type": "display_data"
    },
    {
     "data": {
      "text/html": [
       "<pre style=\"white-space:pre;overflow-x:auto;line-height:normal;font-family:Menlo,'DejaVu Sans Mono',consolas,'Courier New',monospace\"><span style=\"color: #008000; text-decoration-color: #008000\">DEBUG   </span> Time to generate response: <span style=\"color: #008080; text-decoration-color: #008080; font-weight: bold\">5.</span>6001s                                                                        \n",
       "</pre>\n"
      ],
      "text/plain": [
       "\u001b[32mDEBUG   \u001b[0m Time to generate response: \u001b[1;36m5.\u001b[0m6001s                                                                        \n"
      ]
     },
     "metadata": {},
     "output_type": "display_data"
    },
    {
     "data": {
      "text/html": [
       "<pre style=\"white-space:pre;overflow-x:auto;line-height:normal;font-family:Menlo,'DejaVu Sans Mono',consolas,'Courier New',monospace\"><span style=\"color: #008000; text-decoration-color: #008000\">DEBUG   </span> ============== assistant ==============                                                                   \n",
       "</pre>\n"
      ],
      "text/plain": [
       "\u001b[32mDEBUG   \u001b[0m ============== assistant ==============                                                                   \n"
      ]
     },
     "metadata": {},
     "output_type": "display_data"
    },
    {
     "data": {
      "text/html": [
       "<pre style=\"white-space:pre;overflow-x:auto;line-height:normal;font-family:Menlo,'DejaVu Sans Mono',consolas,'Courier New',monospace\"><span style=\"color: #008000; text-decoration-color: #008000\">DEBUG   </span> Tool Calls: <span style=\"font-weight: bold\">[</span>                                                                                             \n",
       "           <span style=\"font-weight: bold\">{</span>                                                                                                       \n",
       "             <span style=\"color: #008000; text-decoration-color: #008000\">\"id\"</span>: <span style=\"color: #008000; text-decoration-color: #008000\">\"call_kZcYvh4fPSGUO88WZZie5j02\"</span>,                                                                \n",
       "             <span style=\"color: #008000; text-decoration-color: #008000\">\"function\"</span>: <span style=\"font-weight: bold\">{</span>                                                                                         \n",
       "               <span style=\"color: #008000; text-decoration-color: #008000\">\"arguments\"</span>: <span style=\"color: #008000; text-decoration-color: #008000\">\"{\\\"query\\\": \\\"Hashicorp IBM acquisition\\\", \\\"max_results\\\": 15}\"</span>,                     \n",
       "               <span style=\"color: #008000; text-decoration-color: #008000\">\"name\"</span>: <span style=\"color: #008000; text-decoration-color: #008000\">\"duckduckgo_search\"</span>                                                                         \n",
       "             <span style=\"font-weight: bold\">}</span>,                                                                                                    \n",
       "             <span style=\"color: #008000; text-decoration-color: #008000\">\"type\"</span>: <span style=\"color: #008000; text-decoration-color: #008000\">\"function\"</span>                                                                                    \n",
       "           <span style=\"font-weight: bold\">}</span>,                                                                                                      \n",
       "           <span style=\"font-weight: bold\">{</span>                                                                                                       \n",
       "             <span style=\"color: #008000; text-decoration-color: #008000\">\"id\"</span>: <span style=\"color: #008000; text-decoration-color: #008000\">\"call_cWF9DZ4kTUmvuH7CR0fgMrOf\"</span>,                                                                \n",
       "             <span style=\"color: #008000; text-decoration-color: #008000\">\"function\"</span>: <span style=\"font-weight: bold\">{</span>                                                                                         \n",
       "               <span style=\"color: #008000; text-decoration-color: #008000\">\"arguments\"</span>: <span style=\"color: #008000; text-decoration-color: #008000\">\"{\\\"query\\\": \\\"Hashicorp IBM acquisition\\\", \\\"max_results\\\": 5}\"</span>,                      \n",
       "               <span style=\"color: #008000; text-decoration-color: #008000\">\"name\"</span>: <span style=\"color: #008000; text-decoration-color: #008000\">\"duckduckgo_news\"</span>                                                                           \n",
       "             <span style=\"font-weight: bold\">}</span>,                                                                                                    \n",
       "             <span style=\"color: #008000; text-decoration-color: #008000\">\"type\"</span>: <span style=\"color: #008000; text-decoration-color: #008000\">\"function\"</span>                                                                                    \n",
       "           <span style=\"font-weight: bold\">}</span>                                                                                                       \n",
       "         <span style=\"font-weight: bold\">]</span>                                                                                                         \n",
       "</pre>\n"
      ],
      "text/plain": [
       "\u001b[32mDEBUG   \u001b[0m Tool Calls: \u001b[1m[\u001b[0m                                                                                             \n",
       "           \u001b[1m{\u001b[0m                                                                                                       \n",
       "             \u001b[32m\"id\"\u001b[0m: \u001b[32m\"call_kZcYvh4fPSGUO88WZZie5j02\"\u001b[0m,                                                                \n",
       "             \u001b[32m\"function\"\u001b[0m: \u001b[1m{\u001b[0m                                                                                         \n",
       "               \u001b[32m\"arguments\"\u001b[0m: \u001b[32m\"\u001b[0m\u001b[32m{\u001b[0m\u001b[32m\\\"query\\\": \\\"Hashicorp IBM acquisition\\\", \\\"max_results\\\": 15\u001b[0m\u001b[32m}\u001b[0m\u001b[32m\"\u001b[0m,                     \n",
       "               \u001b[32m\"name\"\u001b[0m: \u001b[32m\"duckduckgo_search\"\u001b[0m                                                                         \n",
       "             \u001b[1m}\u001b[0m,                                                                                                    \n",
       "             \u001b[32m\"type\"\u001b[0m: \u001b[32m\"function\"\u001b[0m                                                                                    \n",
       "           \u001b[1m}\u001b[0m,                                                                                                      \n",
       "           \u001b[1m{\u001b[0m                                                                                                       \n",
       "             \u001b[32m\"id\"\u001b[0m: \u001b[32m\"call_cWF9DZ4kTUmvuH7CR0fgMrOf\"\u001b[0m,                                                                \n",
       "             \u001b[32m\"function\"\u001b[0m: \u001b[1m{\u001b[0m                                                                                         \n",
       "               \u001b[32m\"arguments\"\u001b[0m: \u001b[32m\"\u001b[0m\u001b[32m{\u001b[0m\u001b[32m\\\"query\\\": \\\"Hashicorp IBM acquisition\\\", \\\"max_results\\\": 5\u001b[0m\u001b[32m}\u001b[0m\u001b[32m\"\u001b[0m,                      \n",
       "               \u001b[32m\"name\"\u001b[0m: \u001b[32m\"duckduckgo_news\"\u001b[0m                                                                           \n",
       "             \u001b[1m}\u001b[0m,                                                                                                    \n",
       "             \u001b[32m\"type\"\u001b[0m: \u001b[32m\"function\"\u001b[0m                                                                                    \n",
       "           \u001b[1m}\u001b[0m                                                                                                       \n",
       "         \u001b[1m]\u001b[0m                                                                                                         \n"
      ]
     },
     "metadata": {},
     "output_type": "display_data"
    },
    {
     "data": {
      "text/html": [
       "<pre style=\"white-space:pre;overflow-x:auto;line-height:normal;font-family:Menlo,'DejaVu Sans Mono',consolas,'Courier New',monospace\"><span style=\"color: #008000; text-decoration-color: #008000\">DEBUG   </span> Getting function duckduckgo_search                                                                        \n",
       "</pre>\n"
      ],
      "text/plain": [
       "\u001b[32mDEBUG   \u001b[0m Getting function duckduckgo_search                                                                        \n"
      ]
     },
     "metadata": {},
     "output_type": "display_data"
    },
    {
     "data": {
      "text/html": [
       "<pre style=\"white-space:pre;overflow-x:auto;line-height:normal;font-family:Menlo,'DejaVu Sans Mono',consolas,'Courier New',monospace\"><span style=\"color: #008000; text-decoration-color: #008000\">DEBUG   </span> Getting function duckduckgo_news                                                                          \n",
       "</pre>\n"
      ],
      "text/plain": [
       "\u001b[32mDEBUG   \u001b[0m Getting function duckduckgo_news                                                                          \n"
      ]
     },
     "metadata": {},
     "output_type": "display_data"
    },
    {
     "data": {
      "text/html": [
       "<pre style=\"white-space:pre;overflow-x:auto;line-height:normal;font-family:Menlo,'DejaVu Sans Mono',consolas,'Courier New',monospace\"><span style=\"color: #008000; text-decoration-color: #008000\">DEBUG   </span> Running: <span style=\"color: #800080; text-decoration-color: #800080; font-weight: bold\">duckduckgo_search</span><span style=\"font-weight: bold\">(</span><span style=\"color: #808000; text-decoration-color: #808000\">query</span>=<span style=\"color: #800080; text-decoration-color: #800080\">Hashicorp</span> IBM acquisition, <span style=\"color: #808000; text-decoration-color: #808000\">max_results</span>=<span style=\"color: #008080; text-decoration-color: #008080; font-weight: bold\">15</span><span style=\"font-weight: bold\">)</span>                               \n",
       "</pre>\n"
      ],
      "text/plain": [
       "\u001b[32mDEBUG   \u001b[0m Running: \u001b[1;35mduckduckgo_search\u001b[0m\u001b[1m(\u001b[0m\u001b[33mquery\u001b[0m=\u001b[35mHashicorp\u001b[0m IBM acquisition, \u001b[33mmax_results\u001b[0m=\u001b[1;36m15\u001b[0m\u001b[1m)\u001b[0m                               \n"
      ]
     },
     "metadata": {},
     "output_type": "display_data"
    },
    {
     "data": {
      "text/html": [
       "<pre style=\"white-space:pre;overflow-x:auto;line-height:normal;font-family:Menlo,'DejaVu Sans Mono',consolas,'Courier New',monospace\"><span style=\"color: #008000; text-decoration-color: #008000\">DEBUG   </span> Searching DDG for: Hashicorp IBM acquisition                                                              \n",
       "</pre>\n"
      ],
      "text/plain": [
       "\u001b[32mDEBUG   \u001b[0m Searching DDG for: Hashicorp IBM acquisition                                                              \n"
      ]
     },
     "metadata": {},
     "output_type": "display_data"
    },
    {
     "data": {
      "text/html": [
       "<pre style=\"white-space:pre;overflow-x:auto;line-height:normal;font-family:Menlo,'DejaVu Sans Mono',consolas,'Courier New',monospace\"><span style=\"color: #008000; text-decoration-color: #008000\">DEBUG   </span> Running: <span style=\"color: #800080; text-decoration-color: #800080; font-weight: bold\">duckduckgo_news</span><span style=\"font-weight: bold\">(</span><span style=\"color: #808000; text-decoration-color: #808000\">query</span>=<span style=\"color: #800080; text-decoration-color: #800080\">Hashicorp</span> IBM acquisition, <span style=\"color: #808000; text-decoration-color: #808000\">max_results</span>=<span style=\"color: #008080; text-decoration-color: #008080; font-weight: bold\">5</span><span style=\"font-weight: bold\">)</span>                                  \n",
       "</pre>\n"
      ],
      "text/plain": [
       "\u001b[32mDEBUG   \u001b[0m Running: \u001b[1;35mduckduckgo_news\u001b[0m\u001b[1m(\u001b[0m\u001b[33mquery\u001b[0m=\u001b[35mHashicorp\u001b[0m IBM acquisition, \u001b[33mmax_results\u001b[0m=\u001b[1;36m5\u001b[0m\u001b[1m)\u001b[0m                                  \n"
      ]
     },
     "metadata": {},
     "output_type": "display_data"
    },
    {
     "data": {
      "text/html": [
       "<pre style=\"white-space:pre;overflow-x:auto;line-height:normal;font-family:Menlo,'DejaVu Sans Mono',consolas,'Courier New',monospace\"><span style=\"color: #008000; text-decoration-color: #008000\">DEBUG   </span> Searching DDG news for: Hashicorp IBM acquisition                                                         \n",
       "</pre>\n"
      ],
      "text/plain": [
       "\u001b[32mDEBUG   \u001b[0m Searching DDG news for: Hashicorp IBM acquisition                                                         \n"
      ]
     },
     "metadata": {},
     "output_type": "display_data"
    },
    {
     "data": {
      "text/html": [
       "<pre style=\"white-space:pre;overflow-x:auto;line-height:normal;font-family:Menlo,'DejaVu Sans Mono',consolas,'Courier New',monospace\"><span style=\"color: #008000; text-decoration-color: #008000\">DEBUG   </span> ---------- OpenAI Response Start ----------                                                               \n",
       "</pre>\n"
      ],
      "text/plain": [
       "\u001b[32mDEBUG   \u001b[0m ---------- OpenAI Response Start ----------                                                               \n"
      ]
     },
     "metadata": {},
     "output_type": "display_data"
    },
    {
     "data": {
      "text/html": [
       "<pre style=\"white-space:pre;overflow-x:auto;line-height:normal;font-family:Menlo,'DejaVu Sans Mono',consolas,'Courier New',monospace\"><span style=\"color: #008000; text-decoration-color: #008000\">DEBUG   </span> ============== system ==============                                                                      \n",
       "</pre>\n"
      ],
      "text/plain": [
       "\u001b[32mDEBUG   \u001b[0m ============== system ==============                                                                      \n"
      ]
     },
     "metadata": {},
     "output_type": "display_data"
    },
    {
     "data": {
      "text/html": [
       "<pre style=\"white-space:pre;overflow-x:auto;line-height:normal;font-family:Menlo,'DejaVu Sans Mono',consolas,'Courier New',monospace\"><span style=\"color: #008000; text-decoration-color: #008000\">DEBUG   </span> Given a topic, search for <span style=\"color: #008080; text-decoration-color: #008080; font-weight: bold\">15</span> articles and return the <span style=\"color: #008080; text-decoration-color: #008080; font-weight: bold\">7</span> most relevant articles.                            \n",
       "         Your task is: Find the <span style=\"color: #008080; text-decoration-color: #008080; font-weight: bold\">7</span> most relevant articles on a topic.                                               \n",
       "                                                                                                                   \n",
       "                                                                                                                   \n",
       "         Provide your output as a JSON containing the following fields:                                            \n",
       "         <span style=\"font-weight: bold\">&lt;</span><span style=\"color: #ff00ff; text-decoration-color: #ff00ff; font-weight: bold\">json_fields</span><span style=\"color: #000000; text-decoration-color: #000000\">&gt;</span>                                                                                             \n",
       "         <span style=\"color: #000000; text-decoration-color: #000000; font-weight: bold\">[</span><span style=\"color: #008000; text-decoration-color: #008000\">\"title\"</span><span style=\"color: #000000; text-decoration-color: #000000\">, </span><span style=\"color: #008000; text-decoration-color: #008000\">\"url\"</span><span style=\"color: #000000; text-decoration-color: #000000\">, </span><span style=\"color: #008000; text-decoration-color: #008000\">\"summary\"</span><span style=\"color: #000000; text-decoration-color: #000000; font-weight: bold\">]</span>                                                                               \n",
       "         <span style=\"color: #000000; text-decoration-color: #000000\">&lt;</span><span style=\"color: #800080; text-decoration-color: #800080\">/</span><span style=\"color: #ff00ff; text-decoration-color: #ff00ff\">json_fields</span><span style=\"color: #000000; text-decoration-color: #000000\">&gt;</span>                                                                                            \n",
       "         <span style=\"color: #000000; text-decoration-color: #000000\">Here are the properties for each field:</span>                                                                   \n",
       "         <span style=\"color: #000000; text-decoration-color: #000000\">&lt;json_field_properties&gt;</span>                                                                                   \n",
       "         <span style=\"color: #000000; text-decoration-color: #000000; font-weight: bold\">{</span>                                                                                                         \n",
       "         <span style=\"color: #000000; text-decoration-color: #000000\">  </span><span style=\"color: #008000; text-decoration-color: #008000\">\"title\"</span><span style=\"color: #000000; text-decoration-color: #000000\">: </span><span style=\"color: #000000; text-decoration-color: #000000; font-weight: bold\">{</span>                                                                                              \n",
       "         <span style=\"color: #000000; text-decoration-color: #000000\">    </span><span style=\"color: #008000; text-decoration-color: #008000\">\"description\"</span><span style=\"color: #000000; text-decoration-color: #000000\">: </span><span style=\"color: #008000; text-decoration-color: #008000\">\"Title of the article.\"</span><span style=\"color: #000000; text-decoration-color: #000000\">,</span>                                                               \n",
       "         <span style=\"color: #000000; text-decoration-color: #000000\">    </span><span style=\"color: #008000; text-decoration-color: #008000\">\"type\"</span><span style=\"color: #000000; text-decoration-color: #000000\">: </span><span style=\"color: #008000; text-decoration-color: #008000\">\"string\"</span>                                                                                      \n",
       "         <span style=\"color: #000000; text-decoration-color: #000000\">  </span><span style=\"color: #000000; text-decoration-color: #000000; font-weight: bold\">}</span><span style=\"color: #000000; text-decoration-color: #000000\">,</span>                                                                                                      \n",
       "         <span style=\"color: #000000; text-decoration-color: #000000\">  </span><span style=\"color: #008000; text-decoration-color: #008000\">\"url\"</span><span style=\"color: #000000; text-decoration-color: #000000\">: </span><span style=\"color: #000000; text-decoration-color: #000000; font-weight: bold\">{</span>                                                                                                \n",
       "         <span style=\"color: #000000; text-decoration-color: #000000\">    </span><span style=\"color: #008000; text-decoration-color: #008000\">\"description\"</span><span style=\"color: #000000; text-decoration-color: #000000\">: </span><span style=\"color: #008000; text-decoration-color: #008000\">\"Link to the article.\"</span><span style=\"color: #000000; text-decoration-color: #000000\">,</span>                                                                \n",
       "         <span style=\"color: #000000; text-decoration-color: #000000\">    </span><span style=\"color: #008000; text-decoration-color: #008000\">\"type\"</span><span style=\"color: #000000; text-decoration-color: #000000\">: </span><span style=\"color: #008000; text-decoration-color: #008000\">\"string\"</span>                                                                                      \n",
       "         <span style=\"color: #000000; text-decoration-color: #000000\">  </span><span style=\"color: #000000; text-decoration-color: #000000; font-weight: bold\">}</span><span style=\"color: #000000; text-decoration-color: #000000\">,</span>                                                                                                      \n",
       "         <span style=\"color: #000000; text-decoration-color: #000000\">  </span><span style=\"color: #008000; text-decoration-color: #008000\">\"summary\"</span><span style=\"color: #000000; text-decoration-color: #000000\">: </span><span style=\"color: #000000; text-decoration-color: #000000; font-weight: bold\">{</span>                                                                                            \n",
       "         <span style=\"color: #000000; text-decoration-color: #000000\">    </span><span style=\"color: #008000; text-decoration-color: #008000\">\"anyOf\"</span><span style=\"color: #000000; text-decoration-color: #000000\">: </span><span style=\"color: #000000; text-decoration-color: #000000; font-weight: bold\">[</span>                                                                                            \n",
       "         <span style=\"color: #000000; text-decoration-color: #000000\">      </span><span style=\"color: #000000; text-decoration-color: #000000; font-weight: bold\">{</span>                                                                                                   \n",
       "         <span style=\"color: #000000; text-decoration-color: #000000\">        </span><span style=\"color: #008000; text-decoration-color: #008000\">\"type\"</span><span style=\"color: #000000; text-decoration-color: #000000\">: </span><span style=\"color: #008000; text-decoration-color: #008000\">\"string\"</span>                                                                                  \n",
       "         <span style=\"color: #000000; text-decoration-color: #000000\">      </span><span style=\"color: #000000; text-decoration-color: #000000; font-weight: bold\">}</span><span style=\"color: #000000; text-decoration-color: #000000\">,</span>                                                                                                  \n",
       "         <span style=\"color: #000000; text-decoration-color: #000000\">      </span><span style=\"color: #000000; text-decoration-color: #000000; font-weight: bold\">{</span>                                                                                                   \n",
       "         <span style=\"color: #000000; text-decoration-color: #000000\">        </span><span style=\"color: #008000; text-decoration-color: #008000\">\"type\"</span><span style=\"color: #000000; text-decoration-color: #000000\">: </span><span style=\"color: #008000; text-decoration-color: #008000\">\"null\"</span>                                                                                    \n",
       "         <span style=\"color: #000000; text-decoration-color: #000000\">      </span><span style=\"color: #000000; text-decoration-color: #000000; font-weight: bold\">}</span>                                                                                                   \n",
       "         <span style=\"color: #000000; text-decoration-color: #000000\">    </span><span style=\"color: #000000; text-decoration-color: #000000; font-weight: bold\">]</span><span style=\"color: #000000; text-decoration-color: #000000\">,</span>                                                                                                    \n",
       "         <span style=\"color: #000000; text-decoration-color: #000000\">    </span><span style=\"color: #008000; text-decoration-color: #008000\">\"description\"</span><span style=\"color: #000000; text-decoration-color: #000000\">: </span><span style=\"color: #008000; text-decoration-color: #008000\">\"Summary of the article if available.\"</span>                                                 \n",
       "         <span style=\"color: #000000; text-decoration-color: #000000\">  </span><span style=\"color: #000000; text-decoration-color: #000000; font-weight: bold\">}</span>                                                                                                       \n",
       "         <span style=\"color: #000000; text-decoration-color: #000000; font-weight: bold\">}</span>                                                                                                         \n",
       "         <span style=\"color: #000000; text-decoration-color: #000000\">&lt;</span><span style=\"color: #800080; text-decoration-color: #800080\">/</span><span style=\"color: #ff00ff; text-decoration-color: #ff00ff\">json_field_properties</span><span style=\"font-weight: bold\">&gt;</span>                                                                                  \n",
       "         Start your response with `<span style=\"font-weight: bold\">{</span>` and end it with `<span style=\"font-weight: bold\">}</span>`.                                                         \n",
       "         Your output will be passed to <span style=\"color: #800080; text-decoration-color: #800080; font-weight: bold\">json.loads</span><span style=\"font-weight: bold\">()</span> to convert it to a Python object.                              \n",
       "         Make sure it only contains valid JSON.                                                                    \n",
       "</pre>\n"
      ],
      "text/plain": [
       "\u001b[32mDEBUG   \u001b[0m Given a topic, search for \u001b[1;36m15\u001b[0m articles and return the \u001b[1;36m7\u001b[0m most relevant articles.                            \n",
       "         Your task is: Find the \u001b[1;36m7\u001b[0m most relevant articles on a topic.                                               \n",
       "                                                                                                                   \n",
       "                                                                                                                   \n",
       "         Provide your output as a JSON containing the following fields:                                            \n",
       "         \u001b[1m<\u001b[0m\u001b[1;95mjson_fields\u001b[0m\u001b[39m>\u001b[0m                                                                                             \n",
       "         \u001b[1;39m[\u001b[0m\u001b[32m\"title\"\u001b[0m\u001b[39m, \u001b[0m\u001b[32m\"url\"\u001b[0m\u001b[39m, \u001b[0m\u001b[32m\"summary\"\u001b[0m\u001b[1;39m]\u001b[0m                                                                               \n",
       "         \u001b[39m<\u001b[0m\u001b[35m/\u001b[0m\u001b[95mjson_fields\u001b[0m\u001b[39m>\u001b[0m                                                                                            \n",
       "         \u001b[39mHere are the properties for each field:\u001b[0m                                                                   \n",
       "         \u001b[39m<json_field_properties>\u001b[0m                                                                                   \n",
       "         \u001b[1;39m{\u001b[0m                                                                                                         \n",
       "         \u001b[39m  \u001b[0m\u001b[32m\"title\"\u001b[0m\u001b[39m: \u001b[0m\u001b[1;39m{\u001b[0m                                                                                              \n",
       "         \u001b[39m    \u001b[0m\u001b[32m\"description\"\u001b[0m\u001b[39m: \u001b[0m\u001b[32m\"Title of the article.\"\u001b[0m\u001b[39m,\u001b[0m                                                               \n",
       "         \u001b[39m    \u001b[0m\u001b[32m\"type\"\u001b[0m\u001b[39m: \u001b[0m\u001b[32m\"string\"\u001b[0m                                                                                      \n",
       "         \u001b[39m  \u001b[0m\u001b[1;39m}\u001b[0m\u001b[39m,\u001b[0m                                                                                                      \n",
       "         \u001b[39m  \u001b[0m\u001b[32m\"url\"\u001b[0m\u001b[39m: \u001b[0m\u001b[1;39m{\u001b[0m                                                                                                \n",
       "         \u001b[39m    \u001b[0m\u001b[32m\"description\"\u001b[0m\u001b[39m: \u001b[0m\u001b[32m\"Link to the article.\"\u001b[0m\u001b[39m,\u001b[0m                                                                \n",
       "         \u001b[39m    \u001b[0m\u001b[32m\"type\"\u001b[0m\u001b[39m: \u001b[0m\u001b[32m\"string\"\u001b[0m                                                                                      \n",
       "         \u001b[39m  \u001b[0m\u001b[1;39m}\u001b[0m\u001b[39m,\u001b[0m                                                                                                      \n",
       "         \u001b[39m  \u001b[0m\u001b[32m\"summary\"\u001b[0m\u001b[39m: \u001b[0m\u001b[1;39m{\u001b[0m                                                                                            \n",
       "         \u001b[39m    \u001b[0m\u001b[32m\"anyOf\"\u001b[0m\u001b[39m: \u001b[0m\u001b[1;39m[\u001b[0m                                                                                            \n",
       "         \u001b[39m      \u001b[0m\u001b[1;39m{\u001b[0m                                                                                                   \n",
       "         \u001b[39m        \u001b[0m\u001b[32m\"type\"\u001b[0m\u001b[39m: \u001b[0m\u001b[32m\"string\"\u001b[0m                                                                                  \n",
       "         \u001b[39m      \u001b[0m\u001b[1;39m}\u001b[0m\u001b[39m,\u001b[0m                                                                                                  \n",
       "         \u001b[39m      \u001b[0m\u001b[1;39m{\u001b[0m                                                                                                   \n",
       "         \u001b[39m        \u001b[0m\u001b[32m\"type\"\u001b[0m\u001b[39m: \u001b[0m\u001b[32m\"null\"\u001b[0m                                                                                    \n",
       "         \u001b[39m      \u001b[0m\u001b[1;39m}\u001b[0m                                                                                                   \n",
       "         \u001b[39m    \u001b[0m\u001b[1;39m]\u001b[0m\u001b[39m,\u001b[0m                                                                                                    \n",
       "         \u001b[39m    \u001b[0m\u001b[32m\"description\"\u001b[0m\u001b[39m: \u001b[0m\u001b[32m\"Summary of the article if available.\"\u001b[0m                                                 \n",
       "         \u001b[39m  \u001b[0m\u001b[1;39m}\u001b[0m                                                                                                       \n",
       "         \u001b[1;39m}\u001b[0m                                                                                                         \n",
       "         \u001b[39m<\u001b[0m\u001b[35m/\u001b[0m\u001b[95mjson_field_properties\u001b[0m\u001b[1m>\u001b[0m                                                                                  \n",
       "         Start your response with `\u001b[1m{\u001b[0m` and end it with `\u001b[1m}\u001b[0m`.                                                         \n",
       "         Your output will be passed to \u001b[1;35mjson.loads\u001b[0m\u001b[1m(\u001b[0m\u001b[1m)\u001b[0m to convert it to a Python object.                              \n",
       "         Make sure it only contains valid JSON.                                                                    \n"
      ]
     },
     "metadata": {},
     "output_type": "display_data"
    },
    {
     "data": {
      "text/html": [
       "<pre style=\"white-space:pre;overflow-x:auto;line-height:normal;font-family:Menlo,'DejaVu Sans Mono',consolas,'Courier New',monospace\"><span style=\"color: #008000; text-decoration-color: #008000\">DEBUG   </span> ============== user ==============                                                                        \n",
       "</pre>\n"
      ],
      "text/plain": [
       "\u001b[32mDEBUG   \u001b[0m ============== user ==============                                                                        \n"
      ]
     },
     "metadata": {},
     "output_type": "display_data"
    },
    {
     "data": {
      "text/html": [
       "<pre style=\"white-space:pre;overflow-x:auto;line-height:normal;font-family:Menlo,'DejaVu Sans Mono',consolas,'Courier New',monospace\"><span style=\"color: #008000; text-decoration-color: #008000\">DEBUG   </span> Hashicorp IBM acquisition                                                                                 \n",
       "</pre>\n"
      ],
      "text/plain": [
       "\u001b[32mDEBUG   \u001b[0m Hashicorp IBM acquisition                                                                                 \n"
      ]
     },
     "metadata": {},
     "output_type": "display_data"
    },
    {
     "data": {
      "text/html": [
       "<pre style=\"white-space:pre;overflow-x:auto;line-height:normal;font-family:Menlo,'DejaVu Sans Mono',consolas,'Courier New',monospace\"><span style=\"color: #008000; text-decoration-color: #008000\">DEBUG   </span> ============== assistant ==============                                                                   \n",
       "</pre>\n"
      ],
      "text/plain": [
       "\u001b[32mDEBUG   \u001b[0m ============== assistant ==============                                                                   \n"
      ]
     },
     "metadata": {},
     "output_type": "display_data"
    },
    {
     "data": {
      "text/html": [
       "<pre style=\"white-space:pre;overflow-x:auto;line-height:normal;font-family:Menlo,'DejaVu Sans Mono',consolas,'Courier New',monospace\"><span style=\"color: #008000; text-decoration-color: #008000\">DEBUG   </span> Tool Calls: <span style=\"font-weight: bold\">[</span>                                                                                             \n",
       "           <span style=\"font-weight: bold\">{</span>                                                                                                       \n",
       "             <span style=\"color: #008000; text-decoration-color: #008000\">\"id\"</span>: <span style=\"color: #008000; text-decoration-color: #008000\">\"call_kZcYvh4fPSGUO88WZZie5j02\"</span>,                                                                \n",
       "             <span style=\"color: #008000; text-decoration-color: #008000\">\"function\"</span>: <span style=\"font-weight: bold\">{</span>                                                                                         \n",
       "               <span style=\"color: #008000; text-decoration-color: #008000\">\"arguments\"</span>: <span style=\"color: #008000; text-decoration-color: #008000\">\"{\\\"query\\\": \\\"Hashicorp IBM acquisition\\\", \\\"max_results\\\": 15}\"</span>,                     \n",
       "               <span style=\"color: #008000; text-decoration-color: #008000\">\"name\"</span>: <span style=\"color: #008000; text-decoration-color: #008000\">\"duckduckgo_search\"</span>                                                                         \n",
       "             <span style=\"font-weight: bold\">}</span>,                                                                                                    \n",
       "             <span style=\"color: #008000; text-decoration-color: #008000\">\"type\"</span>: <span style=\"color: #008000; text-decoration-color: #008000\">\"function\"</span>                                                                                    \n",
       "           <span style=\"font-weight: bold\">}</span>,                                                                                                      \n",
       "           <span style=\"font-weight: bold\">{</span>                                                                                                       \n",
       "             <span style=\"color: #008000; text-decoration-color: #008000\">\"id\"</span>: <span style=\"color: #008000; text-decoration-color: #008000\">\"call_cWF9DZ4kTUmvuH7CR0fgMrOf\"</span>,                                                                \n",
       "             <span style=\"color: #008000; text-decoration-color: #008000\">\"function\"</span>: <span style=\"font-weight: bold\">{</span>                                                                                         \n",
       "               <span style=\"color: #008000; text-decoration-color: #008000\">\"arguments\"</span>: <span style=\"color: #008000; text-decoration-color: #008000\">\"{\\\"query\\\": \\\"Hashicorp IBM acquisition\\\", \\\"max_results\\\": 5}\"</span>,                      \n",
       "               <span style=\"color: #008000; text-decoration-color: #008000\">\"name\"</span>: <span style=\"color: #008000; text-decoration-color: #008000\">\"duckduckgo_news\"</span>                                                                           \n",
       "             <span style=\"font-weight: bold\">}</span>,                                                                                                    \n",
       "             <span style=\"color: #008000; text-decoration-color: #008000\">\"type\"</span>: <span style=\"color: #008000; text-decoration-color: #008000\">\"function\"</span>                                                                                    \n",
       "           <span style=\"font-weight: bold\">}</span>                                                                                                       \n",
       "         <span style=\"font-weight: bold\">]</span>                                                                                                         \n",
       "</pre>\n"
      ],
      "text/plain": [
       "\u001b[32mDEBUG   \u001b[0m Tool Calls: \u001b[1m[\u001b[0m                                                                                             \n",
       "           \u001b[1m{\u001b[0m                                                                                                       \n",
       "             \u001b[32m\"id\"\u001b[0m: \u001b[32m\"call_kZcYvh4fPSGUO88WZZie5j02\"\u001b[0m,                                                                \n",
       "             \u001b[32m\"function\"\u001b[0m: \u001b[1m{\u001b[0m                                                                                         \n",
       "               \u001b[32m\"arguments\"\u001b[0m: \u001b[32m\"\u001b[0m\u001b[32m{\u001b[0m\u001b[32m\\\"query\\\": \\\"Hashicorp IBM acquisition\\\", \\\"max_results\\\": 15\u001b[0m\u001b[32m}\u001b[0m\u001b[32m\"\u001b[0m,                     \n",
       "               \u001b[32m\"name\"\u001b[0m: \u001b[32m\"duckduckgo_search\"\u001b[0m                                                                         \n",
       "             \u001b[1m}\u001b[0m,                                                                                                    \n",
       "             \u001b[32m\"type\"\u001b[0m: \u001b[32m\"function\"\u001b[0m                                                                                    \n",
       "           \u001b[1m}\u001b[0m,                                                                                                      \n",
       "           \u001b[1m{\u001b[0m                                                                                                       \n",
       "             \u001b[32m\"id\"\u001b[0m: \u001b[32m\"call_cWF9DZ4kTUmvuH7CR0fgMrOf\"\u001b[0m,                                                                \n",
       "             \u001b[32m\"function\"\u001b[0m: \u001b[1m{\u001b[0m                                                                                         \n",
       "               \u001b[32m\"arguments\"\u001b[0m: \u001b[32m\"\u001b[0m\u001b[32m{\u001b[0m\u001b[32m\\\"query\\\": \\\"Hashicorp IBM acquisition\\\", \\\"max_results\\\": 5\u001b[0m\u001b[32m}\u001b[0m\u001b[32m\"\u001b[0m,                      \n",
       "               \u001b[32m\"name\"\u001b[0m: \u001b[32m\"duckduckgo_news\"\u001b[0m                                                                           \n",
       "             \u001b[1m}\u001b[0m,                                                                                                    \n",
       "             \u001b[32m\"type\"\u001b[0m: \u001b[32m\"function\"\u001b[0m                                                                                    \n",
       "           \u001b[1m}\u001b[0m                                                                                                       \n",
       "         \u001b[1m]\u001b[0m                                                                                                         \n"
      ]
     },
     "metadata": {},
     "output_type": "display_data"
    },
    {
     "data": {
      "text/html": [
       "<pre style=\"white-space:pre;overflow-x:auto;line-height:normal;font-family:Menlo,'DejaVu Sans Mono',consolas,'Courier New',monospace\"><span style=\"color: #008000; text-decoration-color: #008000\">DEBUG   </span> ============== tool ==============                                                                        \n",
       "</pre>\n"
      ],
      "text/plain": [
       "\u001b[32mDEBUG   \u001b[0m ============== tool ==============                                                                        \n"
      ]
     },
     "metadata": {},
     "output_type": "display_data"
    },
    {
     "data": {
      "text/html": [
       "<pre style=\"white-space:pre;overflow-x:auto;line-height:normal;font-family:Menlo,'DejaVu Sans Mono',consolas,'Courier New',monospace\"><span style=\"color: #008000; text-decoration-color: #008000\">DEBUG   </span> Call Id: call_kZcYvh4fPSGUO88WZZie5j02                                                                    \n",
       "</pre>\n"
      ],
      "text/plain": [
       "\u001b[32mDEBUG   \u001b[0m Call Id: call_kZcYvh4fPSGUO88WZZie5j02                                                                    \n"
      ]
     },
     "metadata": {},
     "output_type": "display_data"
    },
    {
     "data": {
      "text/html": [
       "<pre style=\"white-space:pre;overflow-x:auto;line-height:normal;font-family:Menlo,'DejaVu Sans Mono',consolas,'Courier New',monospace\"><span style=\"color: #008000; text-decoration-color: #008000\">DEBUG   </span> <span style=\"font-weight: bold\">[</span>                                                                                                         \n",
       "           <span style=\"font-weight: bold\">{</span>                                                                                                       \n",
       "             <span style=\"color: #008000; text-decoration-color: #008000\">\"title\"</span>: <span style=\"color: #008000; text-decoration-color: #008000\">\"IBM to Acquire HashiCorp, Inc. Creating a Comprehensive End-to-End ...\"</span>,                    \n",
       "             <span style=\"color: #008000; text-decoration-color: #008000\">\"href\"</span>:                                                                                               \n",
       "         <span style=\"color: #008000; text-decoration-color: #008000\">\"https://newsroom.ibm.com/2024-04-24-IBM-to-Acquire-HashiCorp-Inc-Creating-a-Comprehensive-End-to-End-Hybr</span>\n",
       "         <span style=\"color: #008000; text-decoration-color: #008000\">id-Cloud-Platform\"</span>,                                                                                       \n",
       "             <span style=\"color: #008000; text-decoration-color: #008000\">\"body\"</span>: <span style=\"color: #008000; text-decoration-color: #008000\">\"Transaction Details. Under the terms of the agreement, IBM will acquire HashiCorp for $35 per</span>\n",
       "         <span style=\"color: #008000; text-decoration-color: #008000\">share in cash, or $6.4 billion enterprise value, net of cash. HashiCorp will be acquired with available </span>  \n",
       "         <span style=\"color: #008000; text-decoration-color: #008000\">cash on hand. The boards of directors of IBM and HashiCorp have both approved the transaction. The </span>       \n",
       "         <span style=\"color: #008000; text-decoration-color: #008000\">acquisition is subject to approval by HashiCorp ...\"</span>                                                      \n",
       "           <span style=\"font-weight: bold\">}</span>,                                                                                                      \n",
       "           <span style=\"font-weight: bold\">{</span>                                                                                                       \n",
       "             <span style=\"color: #008000; text-decoration-color: #008000\">\"title\"</span>: <span style=\"color: #008000; text-decoration-color: #008000\">\"IBM Acquires HashiCorp for $6.4 Billion, Expanding ... - TechRepublic\"</span>,                     \n",
       "             <span style=\"color: #008000; text-decoration-color: #008000\">\"href\"</span>: <span style=\"color: #008000; text-decoration-color: #008000\">\"https://www.techrepublic.com/article/ibm-hashicorp-acquisition/\"</span>,                            \n",
       "             <span style=\"color: #008000; text-decoration-color: #008000\">\"body\"</span>: <span style=\"color: #008000; text-decoration-color: #008000\">\"IBM will acquire San Francisco-based HashiCorp for $6.4 billion, IBM announced during its Q1 </span>\n",
       "         <span style=\"color: #008000; text-decoration-color: #008000\">earning call on April 24. The deal is expected to close by the end of 2024. The acquisition is part of </span>   \n",
       "         <span style=\"color: #008000; text-decoration-color: #008000\">...\"</span>                                                                                                      \n",
       "           <span style=\"font-weight: bold\">}</span>,                                                                                                      \n",
       "           <span style=\"font-weight: bold\">{</span>                                                                                                       \n",
       "             <span style=\"color: #008000; text-decoration-color: #008000\">\"title\"</span>: <span style=\"color: #008000; text-decoration-color: #008000\">\"IBM moves deeper into hybrid cloud management with $6.4B HashiCorp ...\"</span>,                    \n",
       "             <span style=\"color: #008000; text-decoration-color: #008000\">\"href\"</span>:                                                                                               \n",
       "         <span style=\"color: #008000; text-decoration-color: #008000\">\"https://techcrunch.com/2024/04/24/ibm-moves-deeper-into-hybrid-cloud-management-with-6-4b-hashicorp-acqui</span>\n",
       "         <span style=\"color: #008000; text-decoration-color: #008000\">sition/\"</span>,                                                                                                 \n",
       "             <span style=\"color: #008000; text-decoration-color: #008000\">\"body\"</span>: <span style=\"color: #008000; text-decoration-color: #008000\">\"At the bell on Wednesday, IBM announced it was acquiring HashiCorp for $6.4B, further </span>       \n",
       "         <span style=\"color: #008000; text-decoration-color: #008000\">embracing its hybrid cloud management strategy. ... It began with the $34 billion Red Hat acquisition in </span> \n",
       "         <span style=\"color: #008000; text-decoration-color: #008000\">2018, ...\"</span>                                                                                                \n",
       "           <span style=\"font-weight: bold\">}</span>,                                                                                                      \n",
       "           <span style=\"font-weight: bold\">{</span>                                                                                                       \n",
       "             <span style=\"color: #008000; text-decoration-color: #008000\">\"title\"</span>: <span style=\"color: #008000; text-decoration-color: #008000\">\"What IBM's Deal For HashiCorp Means For The Cloud Infra Battle - Forbes\"</span>,                   \n",
       "             <span style=\"color: #008000; text-decoration-color: #008000\">\"href\"</span>:                                                                                               \n",
       "         <span style=\"color: #008000; text-decoration-color: #008000\">\"https://www.forbes.com/sites/rscottraynovich/2024/04/25/what-ibms-deal-for-hashicorp-means-for-the-cloud-</span>\n",
       "         <span style=\"color: #008000; text-decoration-color: #008000\">infra-battle/\"</span>,                                                                                           \n",
       "             <span style=\"color: #008000; text-decoration-color: #008000\">\"body\"</span>: <span style=\"color: #008000; text-decoration-color: #008000\">\"Broadcom last year closed on the $70 billion purchase of VMware, which is a fierce rival of </span> \n",
       "         <span style=\"color: #008000; text-decoration-color: #008000\">IBM Red Hat. The deal for HashiCorp beefs up IBM's portfolio of cloud management assets to battle ...\"</span>    \n",
       "           <span style=\"font-weight: bold\">}</span>,                                                                                                      \n",
       "           <span style=\"font-weight: bold\">{</span>                                                                                                       \n",
       "             <span style=\"color: #008000; text-decoration-color: #008000\">\"title\"</span>: <span style=\"color: #008000; text-decoration-color: #008000\">\"IBM to buy HashiCorp in $6.4 billion deal to expand in cloud\"</span>,                              \n",
       "             <span style=\"color: #008000; text-decoration-color: #008000\">\"href\"</span>:                                                                                               \n",
       "         <span style=\"color: #008000; text-decoration-color: #008000\">\"https://www.reuters.com/markets/deals/ibm-buy-hashicorp-64-billion-deal-expand-cloud-software-2024-04-24/</span>\n",
       "         <span style=\"color: #008000; text-decoration-color: #008000\">\"</span>,                                                                                                        \n",
       "             <span style=\"color: #008000; text-decoration-color: #008000\">\"body\"</span>: <span style=\"color: #008000; text-decoration-color: #008000\">\"IBM will pay $35 per share for HashiCorp, a 42.6% premium to Monday's closing price. ... IBM </span>\n",
       "         <span style=\"color: #008000; text-decoration-color: #008000\">said the HashiCorp acquisition would be funded by cash on hand and would add to adjusted core profit ...\"</span> \n",
       "           <span style=\"font-weight: bold\">}</span>,                                                                                                      \n",
       "           <span style=\"font-weight: bold\">{</span>                                                                                                       \n",
       "             <span style=\"color: #008000; text-decoration-color: #008000\">\"title\"</span>: <span style=\"color: #008000; text-decoration-color: #008000\">\"IBM to Acquire HashiCorp, Inc. Creating a Comprehensive End-to-End ...\"</span>,                    \n",
       "             <span style=\"color: #008000; text-decoration-color: #008000\">\"href\"</span>: <span style=\"color: #008000; text-decoration-color: #008000\">\"https://finance.yahoo.com/news/ibm-acquire-hashicorp-inc-creating-200700259.html\"</span>,           \n",
       "             <span style=\"color: #008000; text-decoration-color: #008000\">\"body\"</span>: <span style=\"color: #008000; text-decoration-color: #008000\">\"Strong Strategic Fit - The acquisition of HashiCorp by IBM creates a comprehensive end-to-end</span>\n",
       "         <span style=\"color: #008000; text-decoration-color: #008000\">hybrid cloud platform built for AI-driven complexity. The combination of each company's portfolio ...\"</span>    \n",
       "           <span style=\"font-weight: bold\">}</span>,                                                                                                      \n",
       "           <span style=\"font-weight: bold\">{</span>                                                                                                       \n",
       "             <span style=\"color: #008000; text-decoration-color: #008000\">\"title\"</span>: <span style=\"color: #008000; text-decoration-color: #008000\">\"IBM doubles down on hybrid cloud with $6.4B HashiCorp acquisition\"</span>,                         \n",
       "             <span style=\"color: #008000; text-decoration-color: #008000\">\"href\"</span>:                                                                                               \n",
       "         <span style=\"color: #008000; text-decoration-color: #008000\">\"https://www.cio.com/article/2095185/ibm-doubles-down-on-hybrid-cloud-with-6-4b-hashicorp-acquisition.html</span>\n",
       "         <span style=\"color: #008000; text-decoration-color: #008000\">\"</span>,                                                                                                        \n",
       "             <span style=\"color: #008000; text-decoration-color: #008000\">\"body\"</span>: <span style=\"color: #008000; text-decoration-color: #008000\">\"The acquisition of HashiCorp by IBM fortifies IBM's position in the rapidly growing AI and </span>  \n",
       "         <span style=\"color: #008000; text-decoration-color: #008000\">cloud computing market, two game-changing technologies shaping the future of how enterprises operate.\"</span>    \n",
       "           <span style=\"font-weight: bold\">}</span>,                                                                                                      \n",
       "           <span style=\"font-weight: bold\">{</span>                                                                                                       \n",
       "             <span style=\"color: #008000; text-decoration-color: #008000\">\"title\"</span>: <span style=\"color: #008000; text-decoration-color: #008000\">\"Everything you need to know about IBM's HashiCorp acquisition\"</span>,                             \n",
       "             <span style=\"color: #008000; text-decoration-color: #008000\">\"href\"</span>:                                                                                               \n",
       "         <span style=\"color: #008000; text-decoration-color: #008000\">\"https://www.itpro.com/business/acquisition/everything-you-need-to-know-about-ibms-bid-for-hashicorp\"</span>,    \n",
       "             <span style=\"color: #008000; text-decoration-color: #008000\">\"body\"</span>: <span style=\"color: #008000; text-decoration-color: #008000\">\"The HashiCorp deal marks the latest in a string of major acquisitions by IBM, having </span>        \n",
       "         <span style=\"color: #008000; text-decoration-color: #008000\">completed two deals already so far in 2024, and underlines the growing enterprise appetite for hybrid and </span>\n",
       "         <span style=\"color: #008000; text-decoration-color: #008000\">multi-cloud solutions in the age of generative AI.. It's a topic that's been bubbling to the surface over </span>\n",
       "         <span style=\"color: #008000; text-decoration-color: #008000\">the last year amid questions over how enterprises can maximize the use of generative AI ...\"</span>              \n",
       "           <span style=\"font-weight: bold\">}</span>,                                                                                                      \n",
       "           <span style=\"font-weight: bold\">{</span>                                                                                                       \n",
       "             <span style=\"color: #008000; text-decoration-color: #008000\">\"title\"</span>: <span style=\"color: #008000; text-decoration-color: #008000\">\"IBM acquires HashiCorp in multi-billion dollar deal to boost cloud ...\"</span>,                    \n",
       "             <span style=\"color: #008000; text-decoration-color: #008000\">\"href\"</span>:                                                                                               \n",
       "         <span style=\"color: #008000; text-decoration-color: #008000\">\"https://www.techradar.com/pro/ibm-acquires-hashicorp-in-multi-billion-dollar-deal-to-boost-cloud-reach\"</span>, \n",
       "             <span style=\"color: #008000; text-decoration-color: #008000\">\"body\"</span>: <span style=\"color: #008000; text-decoration-color: #008000\">\"IBM has confirmed it has entered into a definitive agreement with HashiCorp in which it will </span>\n",
       "         <span style=\"color: #008000; text-decoration-color: #008000\">acquire the California-based software company for $35 per share, equating to a $6.4 billion deal.\"</span>        \n",
       "           <span style=\"font-weight: bold\">}</span>,                                                                                                      \n",
       "           <span style=\"font-weight: bold\">{</span>                                                                                                       \n",
       "             <span style=\"color: #008000; text-decoration-color: #008000\">\"title\"</span>: <span style=\"color: #008000; text-decoration-color: #008000\">\"IBM's Bet on HashiCorp to Boost Cloud Management Offerings\"</span>,                                \n",
       "             <span style=\"color: #008000; text-decoration-color: #008000\">\"href\"</span>:                                                                                               \n",
       "         <span style=\"color: #008000; text-decoration-color: #008000\">\"https://www.wsj.com/articles/ibm-makes-6-4-billion-bet-on-hashicorp-to-boost-cloud-management-offerings-4</span>\n",
       "         <span style=\"color: #008000; text-decoration-color: #008000\">95a5095\"</span>,                                                                                                 \n",
       "             <span style=\"color: #008000; text-decoration-color: #008000\">\"body\"</span>: <span style=\"color: #008000; text-decoration-color: #008000\">\"International Business Machines' $6.4 billion deal for HashiCorp, announced last week, is </span>   \n",
       "         <span style=\"color: #008000; text-decoration-color: #008000\">aimed at helping businesses automate the use of multiple cloud-computing platforms. Many IBM customers </span>   \n",
       "         <span style=\"color: #008000; text-decoration-color: #008000\">...\"</span>                                                                                                      \n",
       "           <span style=\"font-weight: bold\">}</span>,                                                                                                      \n",
       "           <span style=\"font-weight: bold\">{</span>                                                                                                       \n",
       "             <span style=\"color: #008000; text-decoration-color: #008000\">\"title\"</span>: <span style=\"color: #008000; text-decoration-color: #008000\">\"IBM Bolsters Hybrid-Cloud Business With $6.4 Billion HashiCorp Acquisition\"</span>,                \n",
       "             <span style=\"color: #008000; text-decoration-color: #008000\">\"href\"</span>:                                                                                               \n",
       "         <span style=\"color: #008000; text-decoration-color: #008000\">\"https://www.forbes.com/sites/stevemcdowell/2024/04/24/ibm-bolsters-hybrid-cloud-business-with-64b-hashico</span>\n",
       "         <span style=\"color: #008000; text-decoration-color: #008000\">rp-acquisition/\"</span>,                                                                                         \n",
       "             <span style=\"color: #008000; text-decoration-color: #008000\">\"body\"</span>: <span style=\"color: #008000; text-decoration-color: #008000\">\"Ahead of its earnings release, IBM IBM -0.7% announced its intention to acquire HashiCorp, a </span>\n",
       "         <span style=\"color: #008000; text-decoration-color: #008000\">multi-cloud infrastructure automation company, for $35 per share in cash, with an enterprise value of ...\"</span>\n",
       "           <span style=\"font-weight: bold\">}</span>,                                                                                                      \n",
       "           <span style=\"font-weight: bold\">{</span>                                                                                                       \n",
       "             <span style=\"color: #008000; text-decoration-color: #008000\">\"title\"</span>: <span style=\"color: #008000; text-decoration-color: #008000\">\"IBM deepens multicloud solution portfolio with $6.4B HashiCorp acquisition\"</span>,                \n",
       "             <span style=\"color: #008000; text-decoration-color: #008000\">\"href\"</span>:                                                                                               \n",
       "         <span style=\"color: #008000; text-decoration-color: #008000\">\"https://www.ciodive.com/news/ibm-hashicorp-acquisition-hybrid-multicloud-arvind-krishna/714346/\"</span>,        \n",
       "             <span style=\"color: #008000; text-decoration-color: #008000\">\"body\"</span>: <span style=\"color: #008000; text-decoration-color: #008000\">\"The company punctuated the pivot with several key acquisitions in line with the HashiCorp </span>   \n",
       "         <span style=\"color: #008000; text-decoration-color: #008000\">move. IBM added Red Hat's automation, containerization and IT management services to its portfolio for $34</span>\n",
       "         <span style=\"color: #008000; text-decoration-color: #008000\">billion in 2019, bought Apptio for $4.6 billion last year and purchased Advanced's mainframe modernization</span>\n",
       "         <span style=\"color: #008000; text-decoration-color: #008000\">unit for an undisclosed sum in January.\"</span>                                                                  \n",
       "           <span style=\"font-weight: bold\">}</span>,                                                                                                      \n",
       "           <span style=\"font-weight: bold\">{</span>                                                                                                       \n",
       "             <span style=\"color: #008000; text-decoration-color: #008000\">\"title\"</span>: <span style=\"color: #008000; text-decoration-color: #008000\">\"HashiCorp's Journey Ends in a $6.4 Billion IBM Acquisition - Linuxiac\"</span>,                     \n",
       "             <span style=\"color: #008000; text-decoration-color: #008000\">\"href\"</span>: <span style=\"color: #008000; text-decoration-color: #008000\">\"https://linuxiac.com/ibm-acquire-hashicorp/\"</span>,                                                \n",
       "             <span style=\"color: #008000; text-decoration-color: #008000\">\"body\"</span>: <span style=\"color: #008000; text-decoration-color: #008000\">\"HashiCorp Teams Up with IBM. In a significant tech industry move, HashiCorp, a leader in </span>    \n",
       "         <span style=\"color: #008000; text-decoration-color: #008000\">cloud automation, has announced its acquisition by IBM for a whopping $6.4 billion - a strategic </span>         \n",
       "         <span style=\"color: #008000; text-decoration-color: #008000\">partnership aiming to fast-track the adoption of multi-cloud automation technologies. Armon Dadgar, </span>      \n",
       "         <span style=\"color: #008000; text-decoration-color: #008000\">co-founder of HashiCorp, publicly announced the merger on ...\"</span>                                            \n",
       "           <span style=\"font-weight: bold\">}</span>,                                                                                                      \n",
       "           <span style=\"font-weight: bold\">{</span>                                                                                                       \n",
       "             <span style=\"color: #008000; text-decoration-color: #008000\">\"title\"</span>: <span style=\"color: #008000; text-decoration-color: #008000\">\"IBM + HashiCorp + Red Hat: It's about the cloud operating model\"</span>,                           \n",
       "             <span style=\"color: #008000; text-decoration-color: #008000\">\"href\"</span>: <span style=\"color: #008000; text-decoration-color: #008000\">\"https://siliconangle.com/2024/05/04/ibm-hashicorp-red-hat-cloud-operating-model/\"</span>,           \n",
       "             <span style=\"color: #008000; text-decoration-color: #008000\">\"body\"</span>: <span style=\"color: #008000; text-decoration-color: #008000\">\"IBM Corp.'s acquisition of HashiCorp Inc. presents a pivotal moment for multicloud and hybrid</span>\n",
       "         <span style=\"color: #008000; text-decoration-color: #008000\">cloud deployments. With a focus on aligning missions and accelerating growth, IBM intends to operate ...\"</span> \n",
       "           <span style=\"font-weight: bold\">}</span>,                                                                                                      \n",
       "           <span style=\"font-weight: bold\">{</span>                                                                                                       \n",
       "             <span style=\"color: #008000; text-decoration-color: #008000\">\"title\"</span>: <span style=\"color: #008000; text-decoration-color: #008000\">\"IBM Is Buying HashiCorp. What Comes Next? - Forbes\"</span>,                                        \n",
       "             <span style=\"color: #008000; text-decoration-color: #008000\">\"href\"</span>:                                                                                               \n",
       "         <span style=\"color: #008000; text-decoration-color: #008000\">\"https://www.forbes.com/sites/justinwarren/2024/04/26/ibm-is-buying-hashicorp-what-comes-next/\"</span>,          \n",
       "             <span style=\"color: #008000; text-decoration-color: #008000\">\"body\"</span>: <span style=\"color: #008000; text-decoration-color: #008000\">\"HashiCorp's cloud ambitions are the big puzzle for IBM to solve post-acquisition. IBM's track</span>\n",
       "         <span style=\"color: #008000; text-decoration-color: #008000\">record with public cloud is a messy tale of complexity and failure, at least by comparison with ...\"</span>      \n",
       "           <span style=\"font-weight: bold\">}</span>                                                                                                       \n",
       "         <span style=\"font-weight: bold\">]</span>                                                                                                         \n",
       "</pre>\n"
      ],
      "text/plain": [
       "\u001b[32mDEBUG   \u001b[0m \u001b[1m[\u001b[0m                                                                                                         \n",
       "           \u001b[1m{\u001b[0m                                                                                                       \n",
       "             \u001b[32m\"title\"\u001b[0m: \u001b[32m\"IBM to Acquire HashiCorp, Inc. Creating a Comprehensive End-to-End ...\"\u001b[0m,                    \n",
       "             \u001b[32m\"href\"\u001b[0m:                                                                                               \n",
       "         \u001b[32m\"https://newsroom.ibm.com/2024-04-24-IBM-to-Acquire-HashiCorp-Inc-Creating-a-Comprehensive-End-to-End-Hybr\u001b[0m\n",
       "         \u001b[32mid-Cloud-Platform\"\u001b[0m,                                                                                       \n",
       "             \u001b[32m\"body\"\u001b[0m: \u001b[32m\"Transaction Details. Under the terms of the agreement, IBM will acquire HashiCorp for $35 per\u001b[0m\n",
       "         \u001b[32mshare in cash, or $6.4 billion enterprise value, net of cash. HashiCorp will be acquired with available \u001b[0m  \n",
       "         \u001b[32mcash on hand. The boards of directors of IBM and HashiCorp have both approved the transaction. The \u001b[0m       \n",
       "         \u001b[32macquisition is subject to approval by HashiCorp ...\"\u001b[0m                                                      \n",
       "           \u001b[1m}\u001b[0m,                                                                                                      \n",
       "           \u001b[1m{\u001b[0m                                                                                                       \n",
       "             \u001b[32m\"title\"\u001b[0m: \u001b[32m\"IBM Acquires HashiCorp for $6.4 Billion, Expanding ... - TechRepublic\"\u001b[0m,                     \n",
       "             \u001b[32m\"href\"\u001b[0m: \u001b[32m\"https://www.techrepublic.com/article/ibm-hashicorp-acquisition/\"\u001b[0m,                            \n",
       "             \u001b[32m\"body\"\u001b[0m: \u001b[32m\"IBM will acquire San Francisco-based HashiCorp for $6.4 billion, IBM announced during its Q1 \u001b[0m\n",
       "         \u001b[32mearning call on April 24. The deal is expected to close by the end of 2024. The acquisition is part of \u001b[0m   \n",
       "         \u001b[32m...\"\u001b[0m                                                                                                      \n",
       "           \u001b[1m}\u001b[0m,                                                                                                      \n",
       "           \u001b[1m{\u001b[0m                                                                                                       \n",
       "             \u001b[32m\"title\"\u001b[0m: \u001b[32m\"IBM moves deeper into hybrid cloud management with $6.4B HashiCorp ...\"\u001b[0m,                    \n",
       "             \u001b[32m\"href\"\u001b[0m:                                                                                               \n",
       "         \u001b[32m\"https://techcrunch.com/2024/04/24/ibm-moves-deeper-into-hybrid-cloud-management-with-6-4b-hashicorp-acqui\u001b[0m\n",
       "         \u001b[32msition/\"\u001b[0m,                                                                                                 \n",
       "             \u001b[32m\"body\"\u001b[0m: \u001b[32m\"At the bell on Wednesday, IBM announced it was acquiring HashiCorp for $6.4B, further \u001b[0m       \n",
       "         \u001b[32membracing its hybrid cloud management strategy. ... It began with the $34 billion Red Hat acquisition in \u001b[0m \n",
       "         \u001b[32m2018, ...\"\u001b[0m                                                                                                \n",
       "           \u001b[1m}\u001b[0m,                                                                                                      \n",
       "           \u001b[1m{\u001b[0m                                                                                                       \n",
       "             \u001b[32m\"title\"\u001b[0m: \u001b[32m\"What IBM's Deal For HashiCorp Means For The Cloud Infra Battle - Forbes\"\u001b[0m,                   \n",
       "             \u001b[32m\"href\"\u001b[0m:                                                                                               \n",
       "         \u001b[32m\"https://www.forbes.com/sites/rscottraynovich/2024/04/25/what-ibms-deal-for-hashicorp-means-for-the-cloud-\u001b[0m\n",
       "         \u001b[32minfra-battle/\"\u001b[0m,                                                                                           \n",
       "             \u001b[32m\"body\"\u001b[0m: \u001b[32m\"Broadcom last year closed on the $70 billion purchase of VMware, which is a fierce rival of \u001b[0m \n",
       "         \u001b[32mIBM Red Hat. The deal for HashiCorp beefs up IBM's portfolio of cloud management assets to battle ...\"\u001b[0m    \n",
       "           \u001b[1m}\u001b[0m,                                                                                                      \n",
       "           \u001b[1m{\u001b[0m                                                                                                       \n",
       "             \u001b[32m\"title\"\u001b[0m: \u001b[32m\"IBM to buy HashiCorp in $6.4 billion deal to expand in cloud\"\u001b[0m,                              \n",
       "             \u001b[32m\"href\"\u001b[0m:                                                                                               \n",
       "         \u001b[32m\"https://www.reuters.com/markets/deals/ibm-buy-hashicorp-64-billion-deal-expand-cloud-software-2024-04-24/\u001b[0m\n",
       "         \u001b[32m\"\u001b[0m,                                                                                                        \n",
       "             \u001b[32m\"body\"\u001b[0m: \u001b[32m\"IBM will pay $35 per share for HashiCorp, a 42.6% premium to Monday's closing price. ... IBM \u001b[0m\n",
       "         \u001b[32msaid the HashiCorp acquisition would be funded by cash on hand and would add to adjusted core profit ...\"\u001b[0m \n",
       "           \u001b[1m}\u001b[0m,                                                                                                      \n",
       "           \u001b[1m{\u001b[0m                                                                                                       \n",
       "             \u001b[32m\"title\"\u001b[0m: \u001b[32m\"IBM to Acquire HashiCorp, Inc. Creating a Comprehensive End-to-End ...\"\u001b[0m,                    \n",
       "             \u001b[32m\"href\"\u001b[0m: \u001b[32m\"https://finance.yahoo.com/news/ibm-acquire-hashicorp-inc-creating-200700259.html\"\u001b[0m,           \n",
       "             \u001b[32m\"body\"\u001b[0m: \u001b[32m\"Strong Strategic Fit - The acquisition of HashiCorp by IBM creates a comprehensive end-to-end\u001b[0m\n",
       "         \u001b[32mhybrid cloud platform built for AI-driven complexity. The combination of each company's portfolio ...\"\u001b[0m    \n",
       "           \u001b[1m}\u001b[0m,                                                                                                      \n",
       "           \u001b[1m{\u001b[0m                                                                                                       \n",
       "             \u001b[32m\"title\"\u001b[0m: \u001b[32m\"IBM doubles down on hybrid cloud with $6.4B HashiCorp acquisition\"\u001b[0m,                         \n",
       "             \u001b[32m\"href\"\u001b[0m:                                                                                               \n",
       "         \u001b[32m\"https://www.cio.com/article/2095185/ibm-doubles-down-on-hybrid-cloud-with-6-4b-hashicorp-acquisition.html\u001b[0m\n",
       "         \u001b[32m\"\u001b[0m,                                                                                                        \n",
       "             \u001b[32m\"body\"\u001b[0m: \u001b[32m\"The acquisition of HashiCorp by IBM fortifies IBM's position in the rapidly growing AI and \u001b[0m  \n",
       "         \u001b[32mcloud computing market, two game-changing technologies shaping the future of how enterprises operate.\"\u001b[0m    \n",
       "           \u001b[1m}\u001b[0m,                                                                                                      \n",
       "           \u001b[1m{\u001b[0m                                                                                                       \n",
       "             \u001b[32m\"title\"\u001b[0m: \u001b[32m\"Everything you need to know about IBM's HashiCorp acquisition\"\u001b[0m,                             \n",
       "             \u001b[32m\"href\"\u001b[0m:                                                                                               \n",
       "         \u001b[32m\"https://www.itpro.com/business/acquisition/everything-you-need-to-know-about-ibms-bid-for-hashicorp\"\u001b[0m,    \n",
       "             \u001b[32m\"body\"\u001b[0m: \u001b[32m\"The HashiCorp deal marks the latest in a string of major acquisitions by IBM, having \u001b[0m        \n",
       "         \u001b[32mcompleted two deals already so far in 2024, and underlines the growing enterprise appetite for hybrid and \u001b[0m\n",
       "         \u001b[32mmulti-cloud solutions in the age of generative AI.. It's a topic that's been bubbling to the surface over \u001b[0m\n",
       "         \u001b[32mthe last year amid questions over how enterprises can maximize the use of generative AI ...\"\u001b[0m              \n",
       "           \u001b[1m}\u001b[0m,                                                                                                      \n",
       "           \u001b[1m{\u001b[0m                                                                                                       \n",
       "             \u001b[32m\"title\"\u001b[0m: \u001b[32m\"IBM acquires HashiCorp in multi-billion dollar deal to boost cloud ...\"\u001b[0m,                    \n",
       "             \u001b[32m\"href\"\u001b[0m:                                                                                               \n",
       "         \u001b[32m\"https://www.techradar.com/pro/ibm-acquires-hashicorp-in-multi-billion-dollar-deal-to-boost-cloud-reach\"\u001b[0m, \n",
       "             \u001b[32m\"body\"\u001b[0m: \u001b[32m\"IBM has confirmed it has entered into a definitive agreement with HashiCorp in which it will \u001b[0m\n",
       "         \u001b[32macquire the California-based software company for $35 per share, equating to a $6.4 billion deal.\"\u001b[0m        \n",
       "           \u001b[1m}\u001b[0m,                                                                                                      \n",
       "           \u001b[1m{\u001b[0m                                                                                                       \n",
       "             \u001b[32m\"title\"\u001b[0m: \u001b[32m\"IBM's Bet on HashiCorp to Boost Cloud Management Offerings\"\u001b[0m,                                \n",
       "             \u001b[32m\"href\"\u001b[0m:                                                                                               \n",
       "         \u001b[32m\"https://www.wsj.com/articles/ibm-makes-6-4-billion-bet-on-hashicorp-to-boost-cloud-management-offerings-4\u001b[0m\n",
       "         \u001b[32m95a5095\"\u001b[0m,                                                                                                 \n",
       "             \u001b[32m\"body\"\u001b[0m: \u001b[32m\"International Business Machines' $6.4 billion deal for HashiCorp, announced last week, is \u001b[0m   \n",
       "         \u001b[32maimed at helping businesses automate the use of multiple cloud-computing platforms. Many IBM customers \u001b[0m   \n",
       "         \u001b[32m...\"\u001b[0m                                                                                                      \n",
       "           \u001b[1m}\u001b[0m,                                                                                                      \n",
       "           \u001b[1m{\u001b[0m                                                                                                       \n",
       "             \u001b[32m\"title\"\u001b[0m: \u001b[32m\"IBM Bolsters Hybrid-Cloud Business With $6.4 Billion HashiCorp Acquisition\"\u001b[0m,                \n",
       "             \u001b[32m\"href\"\u001b[0m:                                                                                               \n",
       "         \u001b[32m\"https://www.forbes.com/sites/stevemcdowell/2024/04/24/ibm-bolsters-hybrid-cloud-business-with-64b-hashico\u001b[0m\n",
       "         \u001b[32mrp-acquisition/\"\u001b[0m,                                                                                         \n",
       "             \u001b[32m\"body\"\u001b[0m: \u001b[32m\"Ahead of its earnings release, IBM IBM -0.7% announced its intention to acquire HashiCorp, a \u001b[0m\n",
       "         \u001b[32mmulti-cloud infrastructure automation company, for $35 per share in cash, with an enterprise value of ...\"\u001b[0m\n",
       "           \u001b[1m}\u001b[0m,                                                                                                      \n",
       "           \u001b[1m{\u001b[0m                                                                                                       \n",
       "             \u001b[32m\"title\"\u001b[0m: \u001b[32m\"IBM deepens multicloud solution portfolio with $6.4B HashiCorp acquisition\"\u001b[0m,                \n",
       "             \u001b[32m\"href\"\u001b[0m:                                                                                               \n",
       "         \u001b[32m\"https://www.ciodive.com/news/ibm-hashicorp-acquisition-hybrid-multicloud-arvind-krishna/714346/\"\u001b[0m,        \n",
       "             \u001b[32m\"body\"\u001b[0m: \u001b[32m\"The company punctuated the pivot with several key acquisitions in line with the HashiCorp \u001b[0m   \n",
       "         \u001b[32mmove. IBM added Red Hat's automation, containerization and IT management services to its portfolio for $34\u001b[0m\n",
       "         \u001b[32mbillion in 2019, bought Apptio for $4.6 billion last year and purchased Advanced's mainframe modernization\u001b[0m\n",
       "         \u001b[32munit for an undisclosed sum in January.\"\u001b[0m                                                                  \n",
       "           \u001b[1m}\u001b[0m,                                                                                                      \n",
       "           \u001b[1m{\u001b[0m                                                                                                       \n",
       "             \u001b[32m\"title\"\u001b[0m: \u001b[32m\"HashiCorp's Journey Ends in a $6.4 Billion IBM Acquisition - Linuxiac\"\u001b[0m,                     \n",
       "             \u001b[32m\"href\"\u001b[0m: \u001b[32m\"https://linuxiac.com/ibm-acquire-hashicorp/\"\u001b[0m,                                                \n",
       "             \u001b[32m\"body\"\u001b[0m: \u001b[32m\"HashiCorp Teams Up with IBM. In a significant tech industry move, HashiCorp, a leader in \u001b[0m    \n",
       "         \u001b[32mcloud automation, has announced its acquisition by IBM for a whopping $6.4 billion - a strategic \u001b[0m         \n",
       "         \u001b[32mpartnership aiming to fast-track the adoption of multi-cloud automation technologies. Armon Dadgar, \u001b[0m      \n",
       "         \u001b[32mco-founder of HashiCorp, publicly announced the merger on ...\"\u001b[0m                                            \n",
       "           \u001b[1m}\u001b[0m,                                                                                                      \n",
       "           \u001b[1m{\u001b[0m                                                                                                       \n",
       "             \u001b[32m\"title\"\u001b[0m: \u001b[32m\"IBM + HashiCorp + Red Hat: It's about the cloud operating model\"\u001b[0m,                           \n",
       "             \u001b[32m\"href\"\u001b[0m: \u001b[32m\"https://siliconangle.com/2024/05/04/ibm-hashicorp-red-hat-cloud-operating-model/\"\u001b[0m,           \n",
       "             \u001b[32m\"body\"\u001b[0m: \u001b[32m\"IBM Corp.'s acquisition of HashiCorp Inc. presents a pivotal moment for multicloud and hybrid\u001b[0m\n",
       "         \u001b[32mcloud deployments. With a focus on aligning missions and accelerating growth, IBM intends to operate ...\"\u001b[0m \n",
       "           \u001b[1m}\u001b[0m,                                                                                                      \n",
       "           \u001b[1m{\u001b[0m                                                                                                       \n",
       "             \u001b[32m\"title\"\u001b[0m: \u001b[32m\"IBM Is Buying HashiCorp. What Comes Next? - Forbes\"\u001b[0m,                                        \n",
       "             \u001b[32m\"href\"\u001b[0m:                                                                                               \n",
       "         \u001b[32m\"https://www.forbes.com/sites/justinwarren/2024/04/26/ibm-is-buying-hashicorp-what-comes-next/\"\u001b[0m,          \n",
       "             \u001b[32m\"body\"\u001b[0m: \u001b[32m\"HashiCorp's cloud ambitions are the big puzzle for IBM to solve post-acquisition. IBM's track\u001b[0m\n",
       "         \u001b[32mrecord with public cloud is a messy tale of complexity and failure, at least by comparison with ...\"\u001b[0m      \n",
       "           \u001b[1m}\u001b[0m                                                                                                       \n",
       "         \u001b[1m]\u001b[0m                                                                                                         \n"
      ]
     },
     "metadata": {},
     "output_type": "display_data"
    },
    {
     "data": {
      "text/html": [
       "<pre style=\"white-space:pre;overflow-x:auto;line-height:normal;font-family:Menlo,'DejaVu Sans Mono',consolas,'Courier New',monospace\"><span style=\"color: #008000; text-decoration-color: #008000\">DEBUG   </span> ============== tool ==============                                                                        \n",
       "</pre>\n"
      ],
      "text/plain": [
       "\u001b[32mDEBUG   \u001b[0m ============== tool ==============                                                                        \n"
      ]
     },
     "metadata": {},
     "output_type": "display_data"
    },
    {
     "data": {
      "text/html": [
       "<pre style=\"white-space:pre;overflow-x:auto;line-height:normal;font-family:Menlo,'DejaVu Sans Mono',consolas,'Courier New',monospace\"><span style=\"color: #008000; text-decoration-color: #008000\">DEBUG   </span> Call Id: call_cWF9DZ4kTUmvuH7CR0fgMrOf                                                                    \n",
       "</pre>\n"
      ],
      "text/plain": [
       "\u001b[32mDEBUG   \u001b[0m Call Id: call_cWF9DZ4kTUmvuH7CR0fgMrOf                                                                    \n"
      ]
     },
     "metadata": {},
     "output_type": "display_data"
    },
    {
     "data": {
      "text/html": [
       "<pre style=\"white-space:pre;overflow-x:auto;line-height:normal;font-family:Menlo,'DejaVu Sans Mono',consolas,'Courier New',monospace\"></pre>\n"
      ],
      "text/plain": []
     },
     "metadata": {},
     "output_type": "display_data"
    },
    {
     "ename": "APIConnectionError",
     "evalue": "Connection error.",
     "output_type": "error",
     "traceback": [
      "\u001b[0;31m---------------------------------------------------------------------------\u001b[0m",
      "\u001b[0;31mRemoteProtocolError\u001b[0m                       Traceback (most recent call last)",
      "File \u001b[0;32m/opt/anaconda3/envs/ai_2/lib/python3.10/site-packages/httpx/_transports/default.py:66\u001b[0m, in \u001b[0;36mmap_httpcore_exceptions\u001b[0;34m()\u001b[0m\n\u001b[1;32m     65\u001b[0m \u001b[38;5;28;01mtry\u001b[39;00m:\n\u001b[0;32m---> 66\u001b[0m     \u001b[38;5;28;01myield\u001b[39;00m\n\u001b[1;32m     67\u001b[0m \u001b[38;5;28;01mexcept\u001b[39;00m \u001b[38;5;167;01mException\u001b[39;00m \u001b[38;5;28;01mas\u001b[39;00m exc:\n",
      "File \u001b[0;32m/opt/anaconda3/envs/ai_2/lib/python3.10/site-packages/httpx/_transports/default.py:228\u001b[0m, in \u001b[0;36mHTTPTransport.handle_request\u001b[0;34m(self, request)\u001b[0m\n\u001b[1;32m    227\u001b[0m \u001b[38;5;28;01mwith\u001b[39;00m map_httpcore_exceptions():\n\u001b[0;32m--> 228\u001b[0m     resp \u001b[38;5;241m=\u001b[39m \u001b[38;5;28;43mself\u001b[39;49m\u001b[38;5;241;43m.\u001b[39;49m\u001b[43m_pool\u001b[49m\u001b[38;5;241;43m.\u001b[39;49m\u001b[43mhandle_request\u001b[49m\u001b[43m(\u001b[49m\u001b[43mreq\u001b[49m\u001b[43m)\u001b[49m\n\u001b[1;32m    230\u001b[0m \u001b[38;5;28;01massert\u001b[39;00m \u001b[38;5;28misinstance\u001b[39m(resp\u001b[38;5;241m.\u001b[39mstream, typing\u001b[38;5;241m.\u001b[39mIterable)\n",
      "File \u001b[0;32m/opt/anaconda3/envs/ai_2/lib/python3.10/site-packages/httpcore/_sync/connection_pool.py:216\u001b[0m, in \u001b[0;36mConnectionPool.handle_request\u001b[0;34m(self, request)\u001b[0m\n\u001b[1;32m    215\u001b[0m     \u001b[38;5;28mself\u001b[39m\u001b[38;5;241m.\u001b[39m_close_connections(closing)\n\u001b[0;32m--> 216\u001b[0m     \u001b[38;5;28;01mraise\u001b[39;00m exc \u001b[38;5;28;01mfrom\u001b[39;00m \u001b[38;5;28;01mNone\u001b[39;00m\n\u001b[1;32m    218\u001b[0m \u001b[38;5;66;03m# Return the response. Note that in this case we still have to manage\u001b[39;00m\n\u001b[1;32m    219\u001b[0m \u001b[38;5;66;03m# the point at which the response is closed.\u001b[39;00m\n",
      "File \u001b[0;32m/opt/anaconda3/envs/ai_2/lib/python3.10/site-packages/httpcore/_sync/connection_pool.py:196\u001b[0m, in \u001b[0;36mConnectionPool.handle_request\u001b[0;34m(self, request)\u001b[0m\n\u001b[1;32m    194\u001b[0m \u001b[38;5;28;01mtry\u001b[39;00m:\n\u001b[1;32m    195\u001b[0m     \u001b[38;5;66;03m# Send the request on the assigned connection.\u001b[39;00m\n\u001b[0;32m--> 196\u001b[0m     response \u001b[38;5;241m=\u001b[39m \u001b[43mconnection\u001b[49m\u001b[38;5;241;43m.\u001b[39;49m\u001b[43mhandle_request\u001b[49m\u001b[43m(\u001b[49m\n\u001b[1;32m    197\u001b[0m \u001b[43m        \u001b[49m\u001b[43mpool_request\u001b[49m\u001b[38;5;241;43m.\u001b[39;49m\u001b[43mrequest\u001b[49m\n\u001b[1;32m    198\u001b[0m \u001b[43m    \u001b[49m\u001b[43m)\u001b[49m\n\u001b[1;32m    199\u001b[0m \u001b[38;5;28;01mexcept\u001b[39;00m ConnectionNotAvailable:\n\u001b[1;32m    200\u001b[0m     \u001b[38;5;66;03m# In some cases a connection may initially be available to\u001b[39;00m\n\u001b[1;32m    201\u001b[0m     \u001b[38;5;66;03m# handle a request, but then become unavailable.\u001b[39;00m\n\u001b[1;32m    202\u001b[0m     \u001b[38;5;66;03m#\u001b[39;00m\n\u001b[1;32m    203\u001b[0m     \u001b[38;5;66;03m# In this case we clear the connection and try again.\u001b[39;00m\n",
      "File \u001b[0;32m/opt/anaconda3/envs/ai_2/lib/python3.10/site-packages/httpcore/_sync/connection.py:101\u001b[0m, in \u001b[0;36mHTTPConnection.handle_request\u001b[0;34m(self, request)\u001b[0m\n\u001b[1;32m     99\u001b[0m     \u001b[38;5;28;01mraise\u001b[39;00m exc\n\u001b[0;32m--> 101\u001b[0m \u001b[38;5;28;01mreturn\u001b[39;00m \u001b[38;5;28;43mself\u001b[39;49m\u001b[38;5;241;43m.\u001b[39;49m\u001b[43m_connection\u001b[49m\u001b[38;5;241;43m.\u001b[39;49m\u001b[43mhandle_request\u001b[49m\u001b[43m(\u001b[49m\u001b[43mrequest\u001b[49m\u001b[43m)\u001b[49m\n",
      "File \u001b[0;32m/opt/anaconda3/envs/ai_2/lib/python3.10/site-packages/httpcore/_sync/http11.py:143\u001b[0m, in \u001b[0;36mHTTP11Connection.handle_request\u001b[0;34m(self, request)\u001b[0m\n\u001b[1;32m    142\u001b[0m         \u001b[38;5;28mself\u001b[39m\u001b[38;5;241m.\u001b[39m_response_closed()\n\u001b[0;32m--> 143\u001b[0m \u001b[38;5;28;01mraise\u001b[39;00m exc\n",
      "File \u001b[0;32m/opt/anaconda3/envs/ai_2/lib/python3.10/site-packages/httpcore/_sync/http11.py:113\u001b[0m, in \u001b[0;36mHTTP11Connection.handle_request\u001b[0;34m(self, request)\u001b[0m\n\u001b[1;32m    104\u001b[0m \u001b[38;5;28;01mwith\u001b[39;00m Trace(\n\u001b[1;32m    105\u001b[0m     \u001b[38;5;124m\"\u001b[39m\u001b[38;5;124mreceive_response_headers\u001b[39m\u001b[38;5;124m\"\u001b[39m, logger, request, kwargs\n\u001b[1;32m    106\u001b[0m ) \u001b[38;5;28;01mas\u001b[39;00m trace:\n\u001b[1;32m    107\u001b[0m     (\n\u001b[1;32m    108\u001b[0m         http_version,\n\u001b[1;32m    109\u001b[0m         status,\n\u001b[1;32m    110\u001b[0m         reason_phrase,\n\u001b[1;32m    111\u001b[0m         headers,\n\u001b[1;32m    112\u001b[0m         trailing_data,\n\u001b[0;32m--> 113\u001b[0m     ) \u001b[38;5;241m=\u001b[39m \u001b[38;5;28;43mself\u001b[39;49m\u001b[38;5;241;43m.\u001b[39;49m\u001b[43m_receive_response_headers\u001b[49m\u001b[43m(\u001b[49m\u001b[38;5;241;43m*\u001b[39;49m\u001b[38;5;241;43m*\u001b[39;49m\u001b[43mkwargs\u001b[49m\u001b[43m)\u001b[49m\n\u001b[1;32m    114\u001b[0m     trace\u001b[38;5;241m.\u001b[39mreturn_value \u001b[38;5;241m=\u001b[39m (\n\u001b[1;32m    115\u001b[0m         http_version,\n\u001b[1;32m    116\u001b[0m         status,\n\u001b[1;32m    117\u001b[0m         reason_phrase,\n\u001b[1;32m    118\u001b[0m         headers,\n\u001b[1;32m    119\u001b[0m     )\n",
      "File \u001b[0;32m/opt/anaconda3/envs/ai_2/lib/python3.10/site-packages/httpcore/_sync/http11.py:186\u001b[0m, in \u001b[0;36mHTTP11Connection._receive_response_headers\u001b[0;34m(self, request)\u001b[0m\n\u001b[1;32m    185\u001b[0m \u001b[38;5;28;01mwhile\u001b[39;00m \u001b[38;5;28;01mTrue\u001b[39;00m:\n\u001b[0;32m--> 186\u001b[0m     event \u001b[38;5;241m=\u001b[39m \u001b[38;5;28;43mself\u001b[39;49m\u001b[38;5;241;43m.\u001b[39;49m\u001b[43m_receive_event\u001b[49m\u001b[43m(\u001b[49m\u001b[43mtimeout\u001b[49m\u001b[38;5;241;43m=\u001b[39;49m\u001b[43mtimeout\u001b[49m\u001b[43m)\u001b[49m\n\u001b[1;32m    187\u001b[0m     \u001b[38;5;28;01mif\u001b[39;00m \u001b[38;5;28misinstance\u001b[39m(event, h11\u001b[38;5;241m.\u001b[39mResponse):\n",
      "File \u001b[0;32m/opt/anaconda3/envs/ai_2/lib/python3.10/site-packages/httpcore/_sync/http11.py:238\u001b[0m, in \u001b[0;36mHTTP11Connection._receive_event\u001b[0;34m(self, timeout)\u001b[0m\n\u001b[1;32m    237\u001b[0m     msg \u001b[38;5;241m=\u001b[39m \u001b[38;5;124m\"\u001b[39m\u001b[38;5;124mServer disconnected without sending a response.\u001b[39m\u001b[38;5;124m\"\u001b[39m\n\u001b[0;32m--> 238\u001b[0m     \u001b[38;5;28;01mraise\u001b[39;00m RemoteProtocolError(msg)\n\u001b[1;32m    240\u001b[0m \u001b[38;5;28mself\u001b[39m\u001b[38;5;241m.\u001b[39m_h11_state\u001b[38;5;241m.\u001b[39mreceive_data(data)\n",
      "\u001b[0;31mRemoteProtocolError\u001b[0m: Server disconnected without sending a response.",
      "\nThe above exception was the direct cause of the following exception:\n",
      "\u001b[0;31mRemoteProtocolError\u001b[0m                       Traceback (most recent call last)",
      "File \u001b[0;32m/opt/anaconda3/envs/ai_2/lib/python3.10/site-packages/openai/_base_client.py:926\u001b[0m, in \u001b[0;36mSyncAPIClient._request\u001b[0;34m(self, cast_to, options, remaining_retries, stream, stream_cls)\u001b[0m\n\u001b[1;32m    925\u001b[0m \u001b[38;5;28;01mtry\u001b[39;00m:\n\u001b[0;32m--> 926\u001b[0m     response \u001b[38;5;241m=\u001b[39m \u001b[38;5;28;43mself\u001b[39;49m\u001b[38;5;241;43m.\u001b[39;49m\u001b[43m_client\u001b[49m\u001b[38;5;241;43m.\u001b[39;49m\u001b[43msend\u001b[49m\u001b[43m(\u001b[49m\n\u001b[1;32m    927\u001b[0m \u001b[43m        \u001b[49m\u001b[43mrequest\u001b[49m\u001b[43m,\u001b[49m\n\u001b[1;32m    928\u001b[0m \u001b[43m        \u001b[49m\u001b[43mstream\u001b[49m\u001b[38;5;241;43m=\u001b[39;49m\u001b[43mstream\u001b[49m\u001b[43m \u001b[49m\u001b[38;5;129;43;01mor\u001b[39;49;00m\u001b[43m \u001b[49m\u001b[38;5;28;43mself\u001b[39;49m\u001b[38;5;241;43m.\u001b[39;49m\u001b[43m_should_stream_response_body\u001b[49m\u001b[43m(\u001b[49m\u001b[43mrequest\u001b[49m\u001b[38;5;241;43m=\u001b[39;49m\u001b[43mrequest\u001b[49m\u001b[43m)\u001b[49m\u001b[43m,\u001b[49m\n\u001b[1;32m    929\u001b[0m \u001b[43m        \u001b[49m\u001b[38;5;241;43m*\u001b[39;49m\u001b[38;5;241;43m*\u001b[39;49m\u001b[43mkwargs\u001b[49m\u001b[43m,\u001b[49m\n\u001b[1;32m    930\u001b[0m \u001b[43m    \u001b[49m\u001b[43m)\u001b[49m\n\u001b[1;32m    931\u001b[0m \u001b[38;5;28;01mexcept\u001b[39;00m httpx\u001b[38;5;241m.\u001b[39mTimeoutException \u001b[38;5;28;01mas\u001b[39;00m err:\n",
      "File \u001b[0;32m/opt/anaconda3/envs/ai_2/lib/python3.10/site-packages/httpx/_client.py:901\u001b[0m, in \u001b[0;36mClient.send\u001b[0;34m(self, request, stream, auth, follow_redirects)\u001b[0m\n\u001b[1;32m    899\u001b[0m auth \u001b[38;5;241m=\u001b[39m \u001b[38;5;28mself\u001b[39m\u001b[38;5;241m.\u001b[39m_build_request_auth(request, auth)\n\u001b[0;32m--> 901\u001b[0m response \u001b[38;5;241m=\u001b[39m \u001b[38;5;28;43mself\u001b[39;49m\u001b[38;5;241;43m.\u001b[39;49m\u001b[43m_send_handling_auth\u001b[49m\u001b[43m(\u001b[49m\n\u001b[1;32m    902\u001b[0m \u001b[43m    \u001b[49m\u001b[43mrequest\u001b[49m\u001b[43m,\u001b[49m\n\u001b[1;32m    903\u001b[0m \u001b[43m    \u001b[49m\u001b[43mauth\u001b[49m\u001b[38;5;241;43m=\u001b[39;49m\u001b[43mauth\u001b[49m\u001b[43m,\u001b[49m\n\u001b[1;32m    904\u001b[0m \u001b[43m    \u001b[49m\u001b[43mfollow_redirects\u001b[49m\u001b[38;5;241;43m=\u001b[39;49m\u001b[43mfollow_redirects\u001b[49m\u001b[43m,\u001b[49m\n\u001b[1;32m    905\u001b[0m \u001b[43m    \u001b[49m\u001b[43mhistory\u001b[49m\u001b[38;5;241;43m=\u001b[39;49m\u001b[43m[\u001b[49m\u001b[43m]\u001b[49m\u001b[43m,\u001b[49m\n\u001b[1;32m    906\u001b[0m \u001b[43m\u001b[49m\u001b[43m)\u001b[49m\n\u001b[1;32m    907\u001b[0m \u001b[38;5;28;01mtry\u001b[39;00m:\n",
      "File \u001b[0;32m/opt/anaconda3/envs/ai_2/lib/python3.10/site-packages/httpx/_client.py:929\u001b[0m, in \u001b[0;36mClient._send_handling_auth\u001b[0;34m(self, request, auth, follow_redirects, history)\u001b[0m\n\u001b[1;32m    928\u001b[0m \u001b[38;5;28;01mwhile\u001b[39;00m \u001b[38;5;28;01mTrue\u001b[39;00m:\n\u001b[0;32m--> 929\u001b[0m     response \u001b[38;5;241m=\u001b[39m \u001b[38;5;28;43mself\u001b[39;49m\u001b[38;5;241;43m.\u001b[39;49m\u001b[43m_send_handling_redirects\u001b[49m\u001b[43m(\u001b[49m\n\u001b[1;32m    930\u001b[0m \u001b[43m        \u001b[49m\u001b[43mrequest\u001b[49m\u001b[43m,\u001b[49m\n\u001b[1;32m    931\u001b[0m \u001b[43m        \u001b[49m\u001b[43mfollow_redirects\u001b[49m\u001b[38;5;241;43m=\u001b[39;49m\u001b[43mfollow_redirects\u001b[49m\u001b[43m,\u001b[49m\n\u001b[1;32m    932\u001b[0m \u001b[43m        \u001b[49m\u001b[43mhistory\u001b[49m\u001b[38;5;241;43m=\u001b[39;49m\u001b[43mhistory\u001b[49m\u001b[43m,\u001b[49m\n\u001b[1;32m    933\u001b[0m \u001b[43m    \u001b[49m\u001b[43m)\u001b[49m\n\u001b[1;32m    934\u001b[0m     \u001b[38;5;28;01mtry\u001b[39;00m:\n",
      "File \u001b[0;32m/opt/anaconda3/envs/ai_2/lib/python3.10/site-packages/httpx/_client.py:966\u001b[0m, in \u001b[0;36mClient._send_handling_redirects\u001b[0;34m(self, request, follow_redirects, history)\u001b[0m\n\u001b[1;32m    964\u001b[0m     hook(request)\n\u001b[0;32m--> 966\u001b[0m response \u001b[38;5;241m=\u001b[39m \u001b[38;5;28;43mself\u001b[39;49m\u001b[38;5;241;43m.\u001b[39;49m\u001b[43m_send_single_request\u001b[49m\u001b[43m(\u001b[49m\u001b[43mrequest\u001b[49m\u001b[43m)\u001b[49m\n\u001b[1;32m    967\u001b[0m \u001b[38;5;28;01mtry\u001b[39;00m:\n",
      "File \u001b[0;32m/opt/anaconda3/envs/ai_2/lib/python3.10/site-packages/httpx/_client.py:1002\u001b[0m, in \u001b[0;36mClient._send_single_request\u001b[0;34m(self, request)\u001b[0m\n\u001b[1;32m   1001\u001b[0m \u001b[38;5;28;01mwith\u001b[39;00m request_context(request\u001b[38;5;241m=\u001b[39mrequest):\n\u001b[0;32m-> 1002\u001b[0m     response \u001b[38;5;241m=\u001b[39m \u001b[43mtransport\u001b[49m\u001b[38;5;241;43m.\u001b[39;49m\u001b[43mhandle_request\u001b[49m\u001b[43m(\u001b[49m\u001b[43mrequest\u001b[49m\u001b[43m)\u001b[49m\n\u001b[1;32m   1004\u001b[0m \u001b[38;5;28;01massert\u001b[39;00m \u001b[38;5;28misinstance\u001b[39m(response\u001b[38;5;241m.\u001b[39mstream, SyncByteStream)\n",
      "File \u001b[0;32m/opt/anaconda3/envs/ai_2/lib/python3.10/site-packages/httpx/_transports/default.py:227\u001b[0m, in \u001b[0;36mHTTPTransport.handle_request\u001b[0;34m(self, request)\u001b[0m\n\u001b[1;32m    215\u001b[0m req \u001b[38;5;241m=\u001b[39m httpcore\u001b[38;5;241m.\u001b[39mRequest(\n\u001b[1;32m    216\u001b[0m     method\u001b[38;5;241m=\u001b[39mrequest\u001b[38;5;241m.\u001b[39mmethod,\n\u001b[1;32m    217\u001b[0m     url\u001b[38;5;241m=\u001b[39mhttpcore\u001b[38;5;241m.\u001b[39mURL(\n\u001b[0;32m   (...)\u001b[0m\n\u001b[1;32m    225\u001b[0m     extensions\u001b[38;5;241m=\u001b[39mrequest\u001b[38;5;241m.\u001b[39mextensions,\n\u001b[1;32m    226\u001b[0m )\n\u001b[0;32m--> 227\u001b[0m \u001b[38;5;28;01mwith\u001b[39;00m map_httpcore_exceptions():\n\u001b[1;32m    228\u001b[0m     resp \u001b[38;5;241m=\u001b[39m \u001b[38;5;28mself\u001b[39m\u001b[38;5;241m.\u001b[39m_pool\u001b[38;5;241m.\u001b[39mhandle_request(req)\n",
      "File \u001b[0;32m/opt/anaconda3/envs/ai_2/lib/python3.10/contextlib.py:153\u001b[0m, in \u001b[0;36m_GeneratorContextManager.__exit__\u001b[0;34m(self, typ, value, traceback)\u001b[0m\n\u001b[1;32m    152\u001b[0m \u001b[38;5;28;01mtry\u001b[39;00m:\n\u001b[0;32m--> 153\u001b[0m     \u001b[38;5;28;43mself\u001b[39;49m\u001b[38;5;241;43m.\u001b[39;49m\u001b[43mgen\u001b[49m\u001b[38;5;241;43m.\u001b[39;49m\u001b[43mthrow\u001b[49m\u001b[43m(\u001b[49m\u001b[43mtyp\u001b[49m\u001b[43m,\u001b[49m\u001b[43m \u001b[49m\u001b[43mvalue\u001b[49m\u001b[43m,\u001b[49m\u001b[43m \u001b[49m\u001b[43mtraceback\u001b[49m\u001b[43m)\u001b[49m\n\u001b[1;32m    154\u001b[0m \u001b[38;5;28;01mexcept\u001b[39;00m \u001b[38;5;167;01mStopIteration\u001b[39;00m \u001b[38;5;28;01mas\u001b[39;00m exc:\n\u001b[1;32m    155\u001b[0m     \u001b[38;5;66;03m# Suppress StopIteration *unless* it's the same exception that\u001b[39;00m\n\u001b[1;32m    156\u001b[0m     \u001b[38;5;66;03m# was passed to throw().  This prevents a StopIteration\u001b[39;00m\n\u001b[1;32m    157\u001b[0m     \u001b[38;5;66;03m# raised inside the \"with\" statement from being suppressed.\u001b[39;00m\n",
      "File \u001b[0;32m/opt/anaconda3/envs/ai_2/lib/python3.10/site-packages/httpx/_transports/default.py:83\u001b[0m, in \u001b[0;36mmap_httpcore_exceptions\u001b[0;34m()\u001b[0m\n\u001b[1;32m     82\u001b[0m message \u001b[38;5;241m=\u001b[39m \u001b[38;5;28mstr\u001b[39m(exc)\n\u001b[0;32m---> 83\u001b[0m \u001b[38;5;28;01mraise\u001b[39;00m mapped_exc(message) \u001b[38;5;28;01mfrom\u001b[39;00m \u001b[38;5;21;01mexc\u001b[39;00m\n",
      "\u001b[0;31mRemoteProtocolError\u001b[0m: Server disconnected without sending a response.",
      "\nThe above exception was the direct cause of the following exception:\n",
      "\u001b[0;31mAPIConnectionError\u001b[0m                        Traceback (most recent call last)",
      "Cell \u001b[0;32mIn[35], line 98\u001b[0m\n\u001b[1;32m     41\u001b[0m writer \u001b[38;5;241m=\u001b[39m Assistant(\n\u001b[1;32m     42\u001b[0m     name\u001b[38;5;241m=\u001b[39m\u001b[38;5;124m\"\u001b[39m\u001b[38;5;124mArticle Writer\u001b[39m\u001b[38;5;124m\"\u001b[39m,\n\u001b[1;32m     43\u001b[0m     tools\u001b[38;5;241m=\u001b[39m[Newspaper4k()],\n\u001b[0;32m   (...)\u001b[0m\n\u001b[1;32m     78\u001b[0m \u001b[38;5;124m    \u001b[39m\u001b[38;5;124m\"\"\"\u001b[39m),\n\u001b[1;32m     79\u001b[0m )\n\u001b[1;32m     81\u001b[0m news_article \u001b[38;5;241m=\u001b[39m Workflow(\n\u001b[1;32m     82\u001b[0m     name\u001b[38;5;241m=\u001b[39m\u001b[38;5;124m\"\u001b[39m\u001b[38;5;124mNews Article Workflow\u001b[39m\u001b[38;5;124m\"\u001b[39m,\n\u001b[1;32m     83\u001b[0m     tasks\u001b[38;5;241m=\u001b[39m[\n\u001b[0;32m   (...)\u001b[0m\n\u001b[1;32m     95\u001b[0m     save_output_to_file\u001b[38;5;241m=\u001b[39m\u001b[38;5;124m\"\u001b[39m\u001b[38;5;124mnews_article.md\u001b[39m\u001b[38;5;124m\"\u001b[39m,\n\u001b[1;32m     96\u001b[0m )\n\u001b[0;32m---> 98\u001b[0m \u001b[43mnews_article\u001b[49m\u001b[38;5;241;43m.\u001b[39;49m\u001b[43mprint_response\u001b[49m\u001b[43m(\u001b[49m\n\u001b[1;32m     99\u001b[0m \u001b[43m    \u001b[49m\u001b[38;5;124;43m\"\u001b[39;49m\u001b[38;5;124;43mHashicorp IBM acquisition\u001b[39;49m\u001b[38;5;124;43m\"\u001b[39;49m\u001b[43m,\u001b[49m\n\u001b[1;32m    100\u001b[0m \u001b[43m    \u001b[49m\u001b[43mmarkdown\u001b[49m\u001b[38;5;241;43m=\u001b[39;49m\u001b[38;5;28;43;01mTrue\u001b[39;49;00m\u001b[43m,\u001b[49m\n\u001b[1;32m    101\u001b[0m \u001b[43m)\u001b[49m\n",
      "File \u001b[0;32m/opt/anaconda3/envs/ai_2/lib/python3.10/site-packages/phi/workflow/workflow.py:160\u001b[0m, in \u001b[0;36mWorkflow.print_response\u001b[0;34m(self, message, stream, markdown, show_message, **kwargs)\u001b[0m\n\u001b[1;32m    158\u001b[0m response_timer \u001b[38;5;241m=\u001b[39m Timer()\n\u001b[1;32m    159\u001b[0m response_timer\u001b[38;5;241m.\u001b[39mstart()\n\u001b[0;32m--> 160\u001b[0m \u001b[38;5;28;01mfor\u001b[39;00m resp \u001b[38;5;129;01min\u001b[39;00m \u001b[38;5;28mself\u001b[39m\u001b[38;5;241m.\u001b[39mrun(message\u001b[38;5;241m=\u001b[39mmessage, stream\u001b[38;5;241m=\u001b[39m\u001b[38;5;28;01mTrue\u001b[39;00m, \u001b[38;5;241m*\u001b[39m\u001b[38;5;241m*\u001b[39mkwargs):\n\u001b[1;32m    161\u001b[0m     \u001b[38;5;28;01mif\u001b[39;00m \u001b[38;5;28misinstance\u001b[39m(resp, \u001b[38;5;28mstr\u001b[39m):\n\u001b[1;32m    162\u001b[0m         response \u001b[38;5;241m+\u001b[39m\u001b[38;5;241m=\u001b[39m resp\n",
      "File \u001b[0;32m/opt/anaconda3/envs/ai_2/lib/python3.10/site-packages/phi/workflow/workflow.py:107\u001b[0m, in \u001b[0;36mWorkflow._run\u001b[0;34m(self, message, stream, **kwargs)\u001b[0m\n\u001b[1;32m    105\u001b[0m         \u001b[38;5;28;01myield\u001b[39;00m chunk \u001b[38;5;28;01mif\u001b[39;00m \u001b[38;5;28misinstance\u001b[39m(chunk, \u001b[38;5;28mstr\u001b[39m) \u001b[38;5;28;01melse\u001b[39;00m \u001b[38;5;124m\"\u001b[39m\u001b[38;5;124m\"\u001b[39m\n\u001b[1;32m    106\u001b[0m \u001b[38;5;28;01melse\u001b[39;00m:\n\u001b[0;32m--> 107\u001b[0m     task_output \u001b[38;5;241m=\u001b[39m \u001b[43mtask\u001b[49m\u001b[38;5;241;43m.\u001b[39;49m\u001b[43mrun\u001b[49m\u001b[43m(\u001b[49m\u001b[43mmessage\u001b[49m\u001b[38;5;241;43m=\u001b[39;49m\u001b[43minput_for_current_task\u001b[49m\u001b[43m,\u001b[49m\u001b[43m \u001b[49m\u001b[43mstream\u001b[49m\u001b[38;5;241;43m=\u001b[39;49m\u001b[38;5;28;43;01mFalse\u001b[39;49;00m\u001b[43m,\u001b[49m\u001b[43m \u001b[49m\u001b[38;5;241;43m*\u001b[39;49m\u001b[38;5;241;43m*\u001b[39;49m\u001b[43mkwargs\u001b[49m\u001b[43m)\u001b[49m  \u001b[38;5;66;03m# type: ignore\u001b[39;00m\n\u001b[1;32m    109\u001b[0m executed_tasks\u001b[38;5;241m.\u001b[39mappend(task)\n\u001b[1;32m    110\u001b[0m workflow_output\u001b[38;5;241m.\u001b[39mappend(task_output)\n",
      "File \u001b[0;32m/opt/anaconda3/envs/ai_2/lib/python3.10/site-packages/phi/task/task.py:112\u001b[0m, in \u001b[0;36mTask.run\u001b[0;34m(self, message, stream, **kwargs)\u001b[0m\n\u001b[1;32m    110\u001b[0m \u001b[38;5;28;01melse\u001b[39;00m:\n\u001b[1;32m    111\u001b[0m     resp \u001b[38;5;241m=\u001b[39m \u001b[38;5;28mself\u001b[39m\u001b[38;5;241m.\u001b[39m_run(message\u001b[38;5;241m=\u001b[39mmessage, stream\u001b[38;5;241m=\u001b[39m\u001b[38;5;28;01mFalse\u001b[39;00m, \u001b[38;5;241m*\u001b[39m\u001b[38;5;241m*\u001b[39mkwargs)\n\u001b[0;32m--> 112\u001b[0m     \u001b[38;5;28;01mreturn\u001b[39;00m \u001b[38;5;28;43mnext\u001b[39;49m\u001b[43m(\u001b[49m\u001b[43mresp\u001b[49m\u001b[43m)\u001b[49m\n",
      "File \u001b[0;32m/opt/anaconda3/envs/ai_2/lib/python3.10/site-packages/phi/task/task.py:85\u001b[0m, in \u001b[0;36mTask._run\u001b[0;34m(self, message, stream, **kwargs)\u001b[0m\n\u001b[1;32m     83\u001b[0m             \u001b[38;5;28;01myield\u001b[39;00m chunk \u001b[38;5;28;01mif\u001b[39;00m \u001b[38;5;28misinstance\u001b[39m(chunk, \u001b[38;5;28mstr\u001b[39m) \u001b[38;5;28;01melse\u001b[39;00m \u001b[38;5;124m\"\u001b[39m\u001b[38;5;124m\"\u001b[39m\n\u001b[1;32m     84\u001b[0m \u001b[38;5;28;01melse\u001b[39;00m:\n\u001b[0;32m---> 85\u001b[0m     assistant_output \u001b[38;5;241m=\u001b[39m \u001b[43massistant\u001b[49m\u001b[38;5;241;43m.\u001b[39;49m\u001b[43mrun\u001b[49m\u001b[43m(\u001b[49m\u001b[43mmessage\u001b[49m\u001b[38;5;241;43m=\u001b[39;49m\u001b[43mmessage\u001b[49m\u001b[43m,\u001b[49m\u001b[43m \u001b[49m\u001b[43mstream\u001b[49m\u001b[38;5;241;43m=\u001b[39;49m\u001b[38;5;28;43;01mFalse\u001b[39;49;00m\u001b[43m,\u001b[49m\u001b[43m \u001b[49m\u001b[38;5;241;43m*\u001b[39;49m\u001b[38;5;241;43m*\u001b[39;49m\u001b[43mkwargs\u001b[49m\u001b[43m)\u001b[49m  \u001b[38;5;66;03m# type: ignore\u001b[39;00m\n\u001b[1;32m     87\u001b[0m \u001b[38;5;28mself\u001b[39m\u001b[38;5;241m.\u001b[39moutput \u001b[38;5;241m=\u001b[39m assistant_output\n\u001b[1;32m     88\u001b[0m \u001b[38;5;28;01mif\u001b[39;00m \u001b[38;5;28mself\u001b[39m\u001b[38;5;241m.\u001b[39msave_output_to_file:\n",
      "File \u001b[0;32m/opt/anaconda3/envs/ai_2/lib/python3.10/site-packages/phi/assistant/assistant.py:928\u001b[0m, in \u001b[0;36mAssistant.run\u001b[0;34m(self, message, stream, messages, **kwargs)\u001b[0m\n\u001b[1;32m    926\u001b[0m \u001b[38;5;28;01mif\u001b[39;00m \u001b[38;5;28mself\u001b[39m\u001b[38;5;241m.\u001b[39moutput_model \u001b[38;5;129;01mis\u001b[39;00m \u001b[38;5;129;01mnot\u001b[39;00m \u001b[38;5;28;01mNone\u001b[39;00m \u001b[38;5;129;01mand\u001b[39;00m \u001b[38;5;28mself\u001b[39m\u001b[38;5;241m.\u001b[39mparse_output:\n\u001b[1;32m    927\u001b[0m     logger\u001b[38;5;241m.\u001b[39mdebug(\u001b[38;5;124m\"\u001b[39m\u001b[38;5;124mSetting stream=False as output_model is set\u001b[39m\u001b[38;5;124m\"\u001b[39m)\n\u001b[0;32m--> 928\u001b[0m     json_resp \u001b[38;5;241m=\u001b[39m \u001b[38;5;28;43mnext\u001b[39;49m\u001b[43m(\u001b[49m\u001b[38;5;28;43mself\u001b[39;49m\u001b[38;5;241;43m.\u001b[39;49m\u001b[43m_run\u001b[49m\u001b[43m(\u001b[49m\u001b[43mmessage\u001b[49m\u001b[38;5;241;43m=\u001b[39;49m\u001b[43mmessage\u001b[49m\u001b[43m,\u001b[49m\u001b[43m \u001b[49m\u001b[43mmessages\u001b[49m\u001b[38;5;241;43m=\u001b[39;49m\u001b[43mmessages\u001b[49m\u001b[43m,\u001b[49m\u001b[43m \u001b[49m\u001b[43mstream\u001b[49m\u001b[38;5;241;43m=\u001b[39;49m\u001b[38;5;28;43;01mFalse\u001b[39;49;00m\u001b[43m,\u001b[49m\u001b[43m \u001b[49m\u001b[38;5;241;43m*\u001b[39;49m\u001b[38;5;241;43m*\u001b[39;49m\u001b[43mkwargs\u001b[49m\u001b[43m)\u001b[49m\u001b[43m)\u001b[49m\n\u001b[1;32m    929\u001b[0m     \u001b[38;5;28;01mtry\u001b[39;00m:\n\u001b[1;32m    930\u001b[0m         structured_output \u001b[38;5;241m=\u001b[39m \u001b[38;5;28;01mNone\u001b[39;00m\n",
      "File \u001b[0;32m/opt/anaconda3/envs/ai_2/lib/python3.10/site-packages/phi/assistant/assistant.py:848\u001b[0m, in \u001b[0;36mAssistant._run\u001b[0;34m(self, message, stream, messages, **kwargs)\u001b[0m\n\u001b[1;32m    846\u001b[0m         \u001b[38;5;28;01myield\u001b[39;00m response_chunk\n\u001b[1;32m    847\u001b[0m \u001b[38;5;28;01melse\u001b[39;00m:\n\u001b[0;32m--> 848\u001b[0m     llm_response \u001b[38;5;241m=\u001b[39m \u001b[38;5;28;43mself\u001b[39;49m\u001b[38;5;241;43m.\u001b[39;49m\u001b[43mllm\u001b[49m\u001b[38;5;241;43m.\u001b[39;49m\u001b[43mresponse\u001b[49m\u001b[43m(\u001b[49m\u001b[43mmessages\u001b[49m\u001b[38;5;241;43m=\u001b[39;49m\u001b[43mllm_messages\u001b[49m\u001b[43m)\u001b[49m\n\u001b[1;32m    850\u001b[0m \u001b[38;5;66;03m# -*- Update Memory\u001b[39;00m\n\u001b[1;32m    851\u001b[0m \u001b[38;5;66;03m# Build the user message to add to the memory - this is added to the chat_history\u001b[39;00m\n\u001b[1;32m    852\u001b[0m \u001b[38;5;66;03m# TODO: update to handle messages\u001b[39;00m\n\u001b[1;32m    853\u001b[0m user_message \u001b[38;5;241m=\u001b[39m Message(role\u001b[38;5;241m=\u001b[39m\u001b[38;5;124m\"\u001b[39m\u001b[38;5;124muser\u001b[39m\u001b[38;5;124m\"\u001b[39m, content\u001b[38;5;241m=\u001b[39mmessage) \u001b[38;5;28;01mif\u001b[39;00m message \u001b[38;5;129;01mis\u001b[39;00m \u001b[38;5;129;01mnot\u001b[39;00m \u001b[38;5;28;01mNone\u001b[39;00m \u001b[38;5;28;01melse\u001b[39;00m \u001b[38;5;28;01mNone\u001b[39;00m\n",
      "File \u001b[0;32m/opt/anaconda3/envs/ai_2/lib/python3.10/site-packages/phi/llm/openai/chat.py:398\u001b[0m, in \u001b[0;36mOpenAIChat.response\u001b[0;34m(self, messages)\u001b[0m\n\u001b[1;32m    396\u001b[0m             messages\u001b[38;5;241m.\u001b[39mextend(function_call_results)\n\u001b[1;32m    397\u001b[0m         \u001b[38;5;66;03m# -*- Get new response using result of tool call\u001b[39;00m\n\u001b[0;32m--> 398\u001b[0m         final_response \u001b[38;5;241m+\u001b[39m\u001b[38;5;241m=\u001b[39m \u001b[38;5;28;43mself\u001b[39;49m\u001b[38;5;241;43m.\u001b[39;49m\u001b[43mresponse\u001b[49m\u001b[43m(\u001b[49m\u001b[43mmessages\u001b[49m\u001b[38;5;241;43m=\u001b[39;49m\u001b[43mmessages\u001b[49m\u001b[43m)\u001b[49m\n\u001b[1;32m    399\u001b[0m         \u001b[38;5;28;01mreturn\u001b[39;00m final_response\n\u001b[1;32m    400\u001b[0m logger\u001b[38;5;241m.\u001b[39mdebug(\u001b[38;5;124m\"\u001b[39m\u001b[38;5;124m---------- OpenAI Response End ----------\u001b[39m\u001b[38;5;124m\"\u001b[39m)\n",
      "File \u001b[0;32m/opt/anaconda3/envs/ai_2/lib/python3.10/site-packages/phi/llm/openai/chat.py:289\u001b[0m, in \u001b[0;36mOpenAIChat.response\u001b[0;34m(self, messages)\u001b[0m\n\u001b[1;32m    287\u001b[0m response_timer \u001b[38;5;241m=\u001b[39m Timer()\n\u001b[1;32m    288\u001b[0m response_timer\u001b[38;5;241m.\u001b[39mstart()\n\u001b[0;32m--> 289\u001b[0m response: ChatCompletion \u001b[38;5;241m=\u001b[39m \u001b[38;5;28;43mself\u001b[39;49m\u001b[38;5;241;43m.\u001b[39;49m\u001b[43minvoke\u001b[49m\u001b[43m(\u001b[49m\u001b[43mmessages\u001b[49m\u001b[38;5;241;43m=\u001b[39;49m\u001b[43mmessages\u001b[49m\u001b[43m)\u001b[49m\n\u001b[1;32m    290\u001b[0m response_timer\u001b[38;5;241m.\u001b[39mstop()\n\u001b[1;32m    291\u001b[0m logger\u001b[38;5;241m.\u001b[39mdebug(\u001b[38;5;124mf\u001b[39m\u001b[38;5;124m\"\u001b[39m\u001b[38;5;124mTime to generate response: \u001b[39m\u001b[38;5;132;01m{\u001b[39;00mresponse_timer\u001b[38;5;241m.\u001b[39melapsed\u001b[38;5;132;01m:\u001b[39;00m\u001b[38;5;124m.4f\u001b[39m\u001b[38;5;132;01m}\u001b[39;00m\u001b[38;5;124ms\u001b[39m\u001b[38;5;124m\"\u001b[39m)\n",
      "File \u001b[0;32m/opt/anaconda3/envs/ai_2/lib/python3.10/site-packages/phi/llm/openai/chat.py:204\u001b[0m, in \u001b[0;36mOpenAIChat.invoke\u001b[0;34m(self, messages)\u001b[0m\n\u001b[1;32m    203\u001b[0m \u001b[38;5;28;01mdef\u001b[39;00m \u001b[38;5;21minvoke\u001b[39m(\u001b[38;5;28mself\u001b[39m, messages: List[Message]) \u001b[38;5;241m-\u001b[39m\u001b[38;5;241m>\u001b[39m ChatCompletion:\n\u001b[0;32m--> 204\u001b[0m     \u001b[38;5;28;01mreturn\u001b[39;00m \u001b[38;5;28;43mself\u001b[39;49m\u001b[38;5;241;43m.\u001b[39;49m\u001b[43mget_client\u001b[49m\u001b[43m(\u001b[49m\u001b[43m)\u001b[49m\u001b[38;5;241;43m.\u001b[39;49m\u001b[43mchat\u001b[49m\u001b[38;5;241;43m.\u001b[39;49m\u001b[43mcompletions\u001b[49m\u001b[38;5;241;43m.\u001b[39;49m\u001b[43mcreate\u001b[49m\u001b[43m(\u001b[49m\n\u001b[1;32m    205\u001b[0m \u001b[43m        \u001b[49m\u001b[43mmodel\u001b[49m\u001b[38;5;241;43m=\u001b[39;49m\u001b[38;5;28;43mself\u001b[39;49m\u001b[38;5;241;43m.\u001b[39;49m\u001b[43mmodel\u001b[49m\u001b[43m,\u001b[49m\n\u001b[1;32m    206\u001b[0m \u001b[43m        \u001b[49m\u001b[43mmessages\u001b[49m\u001b[38;5;241;43m=\u001b[39;49m\u001b[43m[\u001b[49m\u001b[43mm\u001b[49m\u001b[38;5;241;43m.\u001b[39;49m\u001b[43mto_dict\u001b[49m\u001b[43m(\u001b[49m\u001b[43m)\u001b[49m\u001b[43m \u001b[49m\u001b[38;5;28;43;01mfor\u001b[39;49;00m\u001b[43m \u001b[49m\u001b[43mm\u001b[49m\u001b[43m \u001b[49m\u001b[38;5;129;43;01min\u001b[39;49;00m\u001b[43m \u001b[49m\u001b[43mmessages\u001b[49m\u001b[43m]\u001b[49m\u001b[43m,\u001b[49m\u001b[43m  \u001b[49m\u001b[38;5;66;43;03m# type: ignore\u001b[39;49;00m\n\u001b[1;32m    207\u001b[0m \u001b[43m        \u001b[49m\u001b[38;5;241;43m*\u001b[39;49m\u001b[38;5;241;43m*\u001b[39;49m\u001b[38;5;28;43mself\u001b[39;49m\u001b[38;5;241;43m.\u001b[39;49m\u001b[43mapi_kwargs\u001b[49m\u001b[43m,\u001b[49m\n\u001b[1;32m    208\u001b[0m \u001b[43m    \u001b[49m\u001b[43m)\u001b[49m\n",
      "File \u001b[0;32m/opt/anaconda3/envs/ai_2/lib/python3.10/site-packages/openai/_utils/_utils.py:275\u001b[0m, in \u001b[0;36mrequired_args.<locals>.inner.<locals>.wrapper\u001b[0;34m(*args, **kwargs)\u001b[0m\n\u001b[1;32m    273\u001b[0m             msg \u001b[38;5;241m=\u001b[39m \u001b[38;5;124mf\u001b[39m\u001b[38;5;124m\"\u001b[39m\u001b[38;5;124mMissing required argument: \u001b[39m\u001b[38;5;132;01m{\u001b[39;00mquote(missing[\u001b[38;5;241m0\u001b[39m])\u001b[38;5;132;01m}\u001b[39;00m\u001b[38;5;124m\"\u001b[39m\n\u001b[1;32m    274\u001b[0m     \u001b[38;5;28;01mraise\u001b[39;00m \u001b[38;5;167;01mTypeError\u001b[39;00m(msg)\n\u001b[0;32m--> 275\u001b[0m \u001b[38;5;28;01mreturn\u001b[39;00m \u001b[43mfunc\u001b[49m\u001b[43m(\u001b[49m\u001b[38;5;241;43m*\u001b[39;49m\u001b[43margs\u001b[49m\u001b[43m,\u001b[49m\u001b[43m \u001b[49m\u001b[38;5;241;43m*\u001b[39;49m\u001b[38;5;241;43m*\u001b[39;49m\u001b[43mkwargs\u001b[49m\u001b[43m)\u001b[49m\n",
      "File \u001b[0;32m/opt/anaconda3/envs/ai_2/lib/python3.10/site-packages/openai/resources/chat/completions.py:667\u001b[0m, in \u001b[0;36mCompletions.create\u001b[0;34m(self, messages, model, frequency_penalty, function_call, functions, logit_bias, logprobs, max_tokens, n, presence_penalty, response_format, seed, stop, stream, temperature, tool_choice, tools, top_logprobs, top_p, user, extra_headers, extra_query, extra_body, timeout)\u001b[0m\n\u001b[1;32m    615\u001b[0m \u001b[38;5;129m@required_args\u001b[39m([\u001b[38;5;124m\"\u001b[39m\u001b[38;5;124mmessages\u001b[39m\u001b[38;5;124m\"\u001b[39m, \u001b[38;5;124m\"\u001b[39m\u001b[38;5;124mmodel\u001b[39m\u001b[38;5;124m\"\u001b[39m], [\u001b[38;5;124m\"\u001b[39m\u001b[38;5;124mmessages\u001b[39m\u001b[38;5;124m\"\u001b[39m, \u001b[38;5;124m\"\u001b[39m\u001b[38;5;124mmodel\u001b[39m\u001b[38;5;124m\"\u001b[39m, \u001b[38;5;124m\"\u001b[39m\u001b[38;5;124mstream\u001b[39m\u001b[38;5;124m\"\u001b[39m])\n\u001b[1;32m    616\u001b[0m \u001b[38;5;28;01mdef\u001b[39;00m \u001b[38;5;21mcreate\u001b[39m(\n\u001b[1;32m    617\u001b[0m     \u001b[38;5;28mself\u001b[39m,\n\u001b[0;32m   (...)\u001b[0m\n\u001b[1;32m    665\u001b[0m     timeout: \u001b[38;5;28mfloat\u001b[39m \u001b[38;5;241m|\u001b[39m httpx\u001b[38;5;241m.\u001b[39mTimeout \u001b[38;5;241m|\u001b[39m \u001b[38;5;28;01mNone\u001b[39;00m \u001b[38;5;241m|\u001b[39m NotGiven \u001b[38;5;241m=\u001b[39m NOT_GIVEN,\n\u001b[1;32m    666\u001b[0m ) \u001b[38;5;241m-\u001b[39m\u001b[38;5;241m>\u001b[39m ChatCompletion \u001b[38;5;241m|\u001b[39m Stream[ChatCompletionChunk]:\n\u001b[0;32m--> 667\u001b[0m     \u001b[38;5;28;01mreturn\u001b[39;00m \u001b[38;5;28;43mself\u001b[39;49m\u001b[38;5;241;43m.\u001b[39;49m\u001b[43m_post\u001b[49m\u001b[43m(\u001b[49m\n\u001b[1;32m    668\u001b[0m \u001b[43m        \u001b[49m\u001b[38;5;124;43m\"\u001b[39;49m\u001b[38;5;124;43m/chat/completions\u001b[39;49m\u001b[38;5;124;43m\"\u001b[39;49m\u001b[43m,\u001b[49m\n\u001b[1;32m    669\u001b[0m \u001b[43m        \u001b[49m\u001b[43mbody\u001b[49m\u001b[38;5;241;43m=\u001b[39;49m\u001b[43mmaybe_transform\u001b[49m\u001b[43m(\u001b[49m\n\u001b[1;32m    670\u001b[0m \u001b[43m            \u001b[49m\u001b[43m{\u001b[49m\n\u001b[1;32m    671\u001b[0m \u001b[43m                \u001b[49m\u001b[38;5;124;43m\"\u001b[39;49m\u001b[38;5;124;43mmessages\u001b[39;49m\u001b[38;5;124;43m\"\u001b[39;49m\u001b[43m:\u001b[49m\u001b[43m \u001b[49m\u001b[43mmessages\u001b[49m\u001b[43m,\u001b[49m\n\u001b[1;32m    672\u001b[0m \u001b[43m                \u001b[49m\u001b[38;5;124;43m\"\u001b[39;49m\u001b[38;5;124;43mmodel\u001b[39;49m\u001b[38;5;124;43m\"\u001b[39;49m\u001b[43m:\u001b[49m\u001b[43m \u001b[49m\u001b[43mmodel\u001b[49m\u001b[43m,\u001b[49m\n\u001b[1;32m    673\u001b[0m \u001b[43m                \u001b[49m\u001b[38;5;124;43m\"\u001b[39;49m\u001b[38;5;124;43mfrequency_penalty\u001b[39;49m\u001b[38;5;124;43m\"\u001b[39;49m\u001b[43m:\u001b[49m\u001b[43m \u001b[49m\u001b[43mfrequency_penalty\u001b[49m\u001b[43m,\u001b[49m\n\u001b[1;32m    674\u001b[0m \u001b[43m                \u001b[49m\u001b[38;5;124;43m\"\u001b[39;49m\u001b[38;5;124;43mfunction_call\u001b[39;49m\u001b[38;5;124;43m\"\u001b[39;49m\u001b[43m:\u001b[49m\u001b[43m \u001b[49m\u001b[43mfunction_call\u001b[49m\u001b[43m,\u001b[49m\n\u001b[1;32m    675\u001b[0m \u001b[43m                \u001b[49m\u001b[38;5;124;43m\"\u001b[39;49m\u001b[38;5;124;43mfunctions\u001b[39;49m\u001b[38;5;124;43m\"\u001b[39;49m\u001b[43m:\u001b[49m\u001b[43m \u001b[49m\u001b[43mfunctions\u001b[49m\u001b[43m,\u001b[49m\n\u001b[1;32m    676\u001b[0m \u001b[43m                \u001b[49m\u001b[38;5;124;43m\"\u001b[39;49m\u001b[38;5;124;43mlogit_bias\u001b[39;49m\u001b[38;5;124;43m\"\u001b[39;49m\u001b[43m:\u001b[49m\u001b[43m \u001b[49m\u001b[43mlogit_bias\u001b[49m\u001b[43m,\u001b[49m\n\u001b[1;32m    677\u001b[0m \u001b[43m                \u001b[49m\u001b[38;5;124;43m\"\u001b[39;49m\u001b[38;5;124;43mlogprobs\u001b[39;49m\u001b[38;5;124;43m\"\u001b[39;49m\u001b[43m:\u001b[49m\u001b[43m \u001b[49m\u001b[43mlogprobs\u001b[49m\u001b[43m,\u001b[49m\n\u001b[1;32m    678\u001b[0m \u001b[43m                \u001b[49m\u001b[38;5;124;43m\"\u001b[39;49m\u001b[38;5;124;43mmax_tokens\u001b[39;49m\u001b[38;5;124;43m\"\u001b[39;49m\u001b[43m:\u001b[49m\u001b[43m \u001b[49m\u001b[43mmax_tokens\u001b[49m\u001b[43m,\u001b[49m\n\u001b[1;32m    679\u001b[0m \u001b[43m                \u001b[49m\u001b[38;5;124;43m\"\u001b[39;49m\u001b[38;5;124;43mn\u001b[39;49m\u001b[38;5;124;43m\"\u001b[39;49m\u001b[43m:\u001b[49m\u001b[43m \u001b[49m\u001b[43mn\u001b[49m\u001b[43m,\u001b[49m\n\u001b[1;32m    680\u001b[0m \u001b[43m                \u001b[49m\u001b[38;5;124;43m\"\u001b[39;49m\u001b[38;5;124;43mpresence_penalty\u001b[39;49m\u001b[38;5;124;43m\"\u001b[39;49m\u001b[43m:\u001b[49m\u001b[43m \u001b[49m\u001b[43mpresence_penalty\u001b[49m\u001b[43m,\u001b[49m\n\u001b[1;32m    681\u001b[0m \u001b[43m                \u001b[49m\u001b[38;5;124;43m\"\u001b[39;49m\u001b[38;5;124;43mresponse_format\u001b[39;49m\u001b[38;5;124;43m\"\u001b[39;49m\u001b[43m:\u001b[49m\u001b[43m \u001b[49m\u001b[43mresponse_format\u001b[49m\u001b[43m,\u001b[49m\n\u001b[1;32m    682\u001b[0m \u001b[43m                \u001b[49m\u001b[38;5;124;43m\"\u001b[39;49m\u001b[38;5;124;43mseed\u001b[39;49m\u001b[38;5;124;43m\"\u001b[39;49m\u001b[43m:\u001b[49m\u001b[43m \u001b[49m\u001b[43mseed\u001b[49m\u001b[43m,\u001b[49m\n\u001b[1;32m    683\u001b[0m \u001b[43m                \u001b[49m\u001b[38;5;124;43m\"\u001b[39;49m\u001b[38;5;124;43mstop\u001b[39;49m\u001b[38;5;124;43m\"\u001b[39;49m\u001b[43m:\u001b[49m\u001b[43m \u001b[49m\u001b[43mstop\u001b[49m\u001b[43m,\u001b[49m\n\u001b[1;32m    684\u001b[0m \u001b[43m                \u001b[49m\u001b[38;5;124;43m\"\u001b[39;49m\u001b[38;5;124;43mstream\u001b[39;49m\u001b[38;5;124;43m\"\u001b[39;49m\u001b[43m:\u001b[49m\u001b[43m \u001b[49m\u001b[43mstream\u001b[49m\u001b[43m,\u001b[49m\n\u001b[1;32m    685\u001b[0m \u001b[43m                \u001b[49m\u001b[38;5;124;43m\"\u001b[39;49m\u001b[38;5;124;43mtemperature\u001b[39;49m\u001b[38;5;124;43m\"\u001b[39;49m\u001b[43m:\u001b[49m\u001b[43m \u001b[49m\u001b[43mtemperature\u001b[49m\u001b[43m,\u001b[49m\n\u001b[1;32m    686\u001b[0m \u001b[43m                \u001b[49m\u001b[38;5;124;43m\"\u001b[39;49m\u001b[38;5;124;43mtool_choice\u001b[39;49m\u001b[38;5;124;43m\"\u001b[39;49m\u001b[43m:\u001b[49m\u001b[43m \u001b[49m\u001b[43mtool_choice\u001b[49m\u001b[43m,\u001b[49m\n\u001b[1;32m    687\u001b[0m \u001b[43m                \u001b[49m\u001b[38;5;124;43m\"\u001b[39;49m\u001b[38;5;124;43mtools\u001b[39;49m\u001b[38;5;124;43m\"\u001b[39;49m\u001b[43m:\u001b[49m\u001b[43m \u001b[49m\u001b[43mtools\u001b[49m\u001b[43m,\u001b[49m\n\u001b[1;32m    688\u001b[0m \u001b[43m                \u001b[49m\u001b[38;5;124;43m\"\u001b[39;49m\u001b[38;5;124;43mtop_logprobs\u001b[39;49m\u001b[38;5;124;43m\"\u001b[39;49m\u001b[43m:\u001b[49m\u001b[43m \u001b[49m\u001b[43mtop_logprobs\u001b[49m\u001b[43m,\u001b[49m\n\u001b[1;32m    689\u001b[0m \u001b[43m                \u001b[49m\u001b[38;5;124;43m\"\u001b[39;49m\u001b[38;5;124;43mtop_p\u001b[39;49m\u001b[38;5;124;43m\"\u001b[39;49m\u001b[43m:\u001b[49m\u001b[43m \u001b[49m\u001b[43mtop_p\u001b[49m\u001b[43m,\u001b[49m\n\u001b[1;32m    690\u001b[0m \u001b[43m                \u001b[49m\u001b[38;5;124;43m\"\u001b[39;49m\u001b[38;5;124;43muser\u001b[39;49m\u001b[38;5;124;43m\"\u001b[39;49m\u001b[43m:\u001b[49m\u001b[43m \u001b[49m\u001b[43muser\u001b[49m\u001b[43m,\u001b[49m\n\u001b[1;32m    691\u001b[0m \u001b[43m            \u001b[49m\u001b[43m}\u001b[49m\u001b[43m,\u001b[49m\n\u001b[1;32m    692\u001b[0m \u001b[43m            \u001b[49m\u001b[43mcompletion_create_params\u001b[49m\u001b[38;5;241;43m.\u001b[39;49m\u001b[43mCompletionCreateParams\u001b[49m\u001b[43m,\u001b[49m\n\u001b[1;32m    693\u001b[0m \u001b[43m        \u001b[49m\u001b[43m)\u001b[49m\u001b[43m,\u001b[49m\n\u001b[1;32m    694\u001b[0m \u001b[43m        \u001b[49m\u001b[43moptions\u001b[49m\u001b[38;5;241;43m=\u001b[39;49m\u001b[43mmake_request_options\u001b[49m\u001b[43m(\u001b[49m\n\u001b[1;32m    695\u001b[0m \u001b[43m            \u001b[49m\u001b[43mextra_headers\u001b[49m\u001b[38;5;241;43m=\u001b[39;49m\u001b[43mextra_headers\u001b[49m\u001b[43m,\u001b[49m\u001b[43m \u001b[49m\u001b[43mextra_query\u001b[49m\u001b[38;5;241;43m=\u001b[39;49m\u001b[43mextra_query\u001b[49m\u001b[43m,\u001b[49m\u001b[43m \u001b[49m\u001b[43mextra_body\u001b[49m\u001b[38;5;241;43m=\u001b[39;49m\u001b[43mextra_body\u001b[49m\u001b[43m,\u001b[49m\u001b[43m \u001b[49m\u001b[43mtimeout\u001b[49m\u001b[38;5;241;43m=\u001b[39;49m\u001b[43mtimeout\u001b[49m\n\u001b[1;32m    696\u001b[0m \u001b[43m        \u001b[49m\u001b[43m)\u001b[49m\u001b[43m,\u001b[49m\n\u001b[1;32m    697\u001b[0m \u001b[43m        \u001b[49m\u001b[43mcast_to\u001b[49m\u001b[38;5;241;43m=\u001b[39;49m\u001b[43mChatCompletion\u001b[49m\u001b[43m,\u001b[49m\n\u001b[1;32m    698\u001b[0m \u001b[43m        \u001b[49m\u001b[43mstream\u001b[49m\u001b[38;5;241;43m=\u001b[39;49m\u001b[43mstream\u001b[49m\u001b[43m \u001b[49m\u001b[38;5;129;43;01mor\u001b[39;49;00m\u001b[43m \u001b[49m\u001b[38;5;28;43;01mFalse\u001b[39;49;00m\u001b[43m,\u001b[49m\n\u001b[1;32m    699\u001b[0m \u001b[43m        \u001b[49m\u001b[43mstream_cls\u001b[49m\u001b[38;5;241;43m=\u001b[39;49m\u001b[43mStream\u001b[49m\u001b[43m[\u001b[49m\u001b[43mChatCompletionChunk\u001b[49m\u001b[43m]\u001b[49m\u001b[43m,\u001b[49m\n\u001b[1;32m    700\u001b[0m \u001b[43m    \u001b[49m\u001b[43m)\u001b[49m\n",
      "File \u001b[0;32m/opt/anaconda3/envs/ai_2/lib/python3.10/site-packages/openai/_base_client.py:1208\u001b[0m, in \u001b[0;36mSyncAPIClient.post\u001b[0;34m(self, path, cast_to, body, options, files, stream, stream_cls)\u001b[0m\n\u001b[1;32m   1194\u001b[0m \u001b[38;5;28;01mdef\u001b[39;00m \u001b[38;5;21mpost\u001b[39m(\n\u001b[1;32m   1195\u001b[0m     \u001b[38;5;28mself\u001b[39m,\n\u001b[1;32m   1196\u001b[0m     path: \u001b[38;5;28mstr\u001b[39m,\n\u001b[0;32m   (...)\u001b[0m\n\u001b[1;32m   1203\u001b[0m     stream_cls: \u001b[38;5;28mtype\u001b[39m[_StreamT] \u001b[38;5;241m|\u001b[39m \u001b[38;5;28;01mNone\u001b[39;00m \u001b[38;5;241m=\u001b[39m \u001b[38;5;28;01mNone\u001b[39;00m,\n\u001b[1;32m   1204\u001b[0m ) \u001b[38;5;241m-\u001b[39m\u001b[38;5;241m>\u001b[39m ResponseT \u001b[38;5;241m|\u001b[39m _StreamT:\n\u001b[1;32m   1205\u001b[0m     opts \u001b[38;5;241m=\u001b[39m FinalRequestOptions\u001b[38;5;241m.\u001b[39mconstruct(\n\u001b[1;32m   1206\u001b[0m         method\u001b[38;5;241m=\u001b[39m\u001b[38;5;124m\"\u001b[39m\u001b[38;5;124mpost\u001b[39m\u001b[38;5;124m\"\u001b[39m, url\u001b[38;5;241m=\u001b[39mpath, json_data\u001b[38;5;241m=\u001b[39mbody, files\u001b[38;5;241m=\u001b[39mto_httpx_files(files), \u001b[38;5;241m*\u001b[39m\u001b[38;5;241m*\u001b[39moptions\n\u001b[1;32m   1207\u001b[0m     )\n\u001b[0;32m-> 1208\u001b[0m     \u001b[38;5;28;01mreturn\u001b[39;00m cast(ResponseT, \u001b[38;5;28;43mself\u001b[39;49m\u001b[38;5;241;43m.\u001b[39;49m\u001b[43mrequest\u001b[49m\u001b[43m(\u001b[49m\u001b[43mcast_to\u001b[49m\u001b[43m,\u001b[49m\u001b[43m \u001b[49m\u001b[43mopts\u001b[49m\u001b[43m,\u001b[49m\u001b[43m \u001b[49m\u001b[43mstream\u001b[49m\u001b[38;5;241;43m=\u001b[39;49m\u001b[43mstream\u001b[49m\u001b[43m,\u001b[49m\u001b[43m \u001b[49m\u001b[43mstream_cls\u001b[49m\u001b[38;5;241;43m=\u001b[39;49m\u001b[43mstream_cls\u001b[49m\u001b[43m)\u001b[49m)\n",
      "File \u001b[0;32m/opt/anaconda3/envs/ai_2/lib/python3.10/site-packages/openai/_base_client.py:897\u001b[0m, in \u001b[0;36mSyncAPIClient.request\u001b[0;34m(self, cast_to, options, remaining_retries, stream, stream_cls)\u001b[0m\n\u001b[1;32m    888\u001b[0m \u001b[38;5;28;01mdef\u001b[39;00m \u001b[38;5;21mrequest\u001b[39m(\n\u001b[1;32m    889\u001b[0m     \u001b[38;5;28mself\u001b[39m,\n\u001b[1;32m    890\u001b[0m     cast_to: Type[ResponseT],\n\u001b[0;32m   (...)\u001b[0m\n\u001b[1;32m    895\u001b[0m     stream_cls: \u001b[38;5;28mtype\u001b[39m[_StreamT] \u001b[38;5;241m|\u001b[39m \u001b[38;5;28;01mNone\u001b[39;00m \u001b[38;5;241m=\u001b[39m \u001b[38;5;28;01mNone\u001b[39;00m,\n\u001b[1;32m    896\u001b[0m ) \u001b[38;5;241m-\u001b[39m\u001b[38;5;241m>\u001b[39m ResponseT \u001b[38;5;241m|\u001b[39m _StreamT:\n\u001b[0;32m--> 897\u001b[0m     \u001b[38;5;28;01mreturn\u001b[39;00m \u001b[38;5;28;43mself\u001b[39;49m\u001b[38;5;241;43m.\u001b[39;49m\u001b[43m_request\u001b[49m\u001b[43m(\u001b[49m\n\u001b[1;32m    898\u001b[0m \u001b[43m        \u001b[49m\u001b[43mcast_to\u001b[49m\u001b[38;5;241;43m=\u001b[39;49m\u001b[43mcast_to\u001b[49m\u001b[43m,\u001b[49m\n\u001b[1;32m    899\u001b[0m \u001b[43m        \u001b[49m\u001b[43moptions\u001b[49m\u001b[38;5;241;43m=\u001b[39;49m\u001b[43moptions\u001b[49m\u001b[43m,\u001b[49m\n\u001b[1;32m    900\u001b[0m \u001b[43m        \u001b[49m\u001b[43mstream\u001b[49m\u001b[38;5;241;43m=\u001b[39;49m\u001b[43mstream\u001b[49m\u001b[43m,\u001b[49m\n\u001b[1;32m    901\u001b[0m \u001b[43m        \u001b[49m\u001b[43mstream_cls\u001b[49m\u001b[38;5;241;43m=\u001b[39;49m\u001b[43mstream_cls\u001b[49m\u001b[43m,\u001b[49m\n\u001b[1;32m    902\u001b[0m \u001b[43m        \u001b[49m\u001b[43mremaining_retries\u001b[49m\u001b[38;5;241;43m=\u001b[39;49m\u001b[43mremaining_retries\u001b[49m\u001b[43m,\u001b[49m\n\u001b[1;32m    903\u001b[0m \u001b[43m    \u001b[49m\u001b[43m)\u001b[49m\n",
      "File \u001b[0;32m/opt/anaconda3/envs/ai_2/lib/python3.10/site-packages/openai/_base_client.py:950\u001b[0m, in \u001b[0;36mSyncAPIClient._request\u001b[0;34m(self, cast_to, options, remaining_retries, stream, stream_cls)\u001b[0m\n\u001b[1;32m    947\u001b[0m log\u001b[38;5;241m.\u001b[39mdebug(\u001b[38;5;124m\"\u001b[39m\u001b[38;5;124mEncountered Exception\u001b[39m\u001b[38;5;124m\"\u001b[39m, exc_info\u001b[38;5;241m=\u001b[39m\u001b[38;5;28;01mTrue\u001b[39;00m)\n\u001b[1;32m    949\u001b[0m \u001b[38;5;28;01mif\u001b[39;00m retries \u001b[38;5;241m>\u001b[39m \u001b[38;5;241m0\u001b[39m:\n\u001b[0;32m--> 950\u001b[0m     \u001b[38;5;28;01mreturn\u001b[39;00m \u001b[38;5;28;43mself\u001b[39;49m\u001b[38;5;241;43m.\u001b[39;49m\u001b[43m_retry_request\u001b[49m\u001b[43m(\u001b[49m\n\u001b[1;32m    951\u001b[0m \u001b[43m        \u001b[49m\u001b[43moptions\u001b[49m\u001b[43m,\u001b[49m\n\u001b[1;32m    952\u001b[0m \u001b[43m        \u001b[49m\u001b[43mcast_to\u001b[49m\u001b[43m,\u001b[49m\n\u001b[1;32m    953\u001b[0m \u001b[43m        \u001b[49m\u001b[43mretries\u001b[49m\u001b[43m,\u001b[49m\n\u001b[1;32m    954\u001b[0m \u001b[43m        \u001b[49m\u001b[43mstream\u001b[49m\u001b[38;5;241;43m=\u001b[39;49m\u001b[43mstream\u001b[49m\u001b[43m,\u001b[49m\n\u001b[1;32m    955\u001b[0m \u001b[43m        \u001b[49m\u001b[43mstream_cls\u001b[49m\u001b[38;5;241;43m=\u001b[39;49m\u001b[43mstream_cls\u001b[49m\u001b[43m,\u001b[49m\n\u001b[1;32m    956\u001b[0m \u001b[43m        \u001b[49m\u001b[43mresponse_headers\u001b[49m\u001b[38;5;241;43m=\u001b[39;49m\u001b[38;5;28;43;01mNone\u001b[39;49;00m\u001b[43m,\u001b[49m\n\u001b[1;32m    957\u001b[0m \u001b[43m    \u001b[49m\u001b[43m)\u001b[49m\n\u001b[1;32m    959\u001b[0m log\u001b[38;5;241m.\u001b[39mdebug(\u001b[38;5;124m\"\u001b[39m\u001b[38;5;124mRaising connection error\u001b[39m\u001b[38;5;124m\"\u001b[39m)\n\u001b[1;32m    960\u001b[0m \u001b[38;5;28;01mraise\u001b[39;00m APIConnectionError(request\u001b[38;5;241m=\u001b[39mrequest) \u001b[38;5;28;01mfrom\u001b[39;00m \u001b[38;5;21;01merr\u001b[39;00m\n",
      "File \u001b[0;32m/opt/anaconda3/envs/ai_2/lib/python3.10/site-packages/openai/_base_client.py:1021\u001b[0m, in \u001b[0;36mSyncAPIClient._retry_request\u001b[0;34m(self, options, cast_to, remaining_retries, response_headers, stream, stream_cls)\u001b[0m\n\u001b[1;32m   1017\u001b[0m \u001b[38;5;66;03m# In a synchronous context we are blocking the entire thread. Up to the library user to run the client in a\u001b[39;00m\n\u001b[1;32m   1018\u001b[0m \u001b[38;5;66;03m# different thread if necessary.\u001b[39;00m\n\u001b[1;32m   1019\u001b[0m time\u001b[38;5;241m.\u001b[39msleep(timeout)\n\u001b[0;32m-> 1021\u001b[0m \u001b[38;5;28;01mreturn\u001b[39;00m \u001b[38;5;28;43mself\u001b[39;49m\u001b[38;5;241;43m.\u001b[39;49m\u001b[43m_request\u001b[49m\u001b[43m(\u001b[49m\n\u001b[1;32m   1022\u001b[0m \u001b[43m    \u001b[49m\u001b[43moptions\u001b[49m\u001b[38;5;241;43m=\u001b[39;49m\u001b[43moptions\u001b[49m\u001b[43m,\u001b[49m\n\u001b[1;32m   1023\u001b[0m \u001b[43m    \u001b[49m\u001b[43mcast_to\u001b[49m\u001b[38;5;241;43m=\u001b[39;49m\u001b[43mcast_to\u001b[49m\u001b[43m,\u001b[49m\n\u001b[1;32m   1024\u001b[0m \u001b[43m    \u001b[49m\u001b[43mremaining_retries\u001b[49m\u001b[38;5;241;43m=\u001b[39;49m\u001b[43mremaining\u001b[49m\u001b[43m,\u001b[49m\n\u001b[1;32m   1025\u001b[0m \u001b[43m    \u001b[49m\u001b[43mstream\u001b[49m\u001b[38;5;241;43m=\u001b[39;49m\u001b[43mstream\u001b[49m\u001b[43m,\u001b[49m\n\u001b[1;32m   1026\u001b[0m \u001b[43m    \u001b[49m\u001b[43mstream_cls\u001b[49m\u001b[38;5;241;43m=\u001b[39;49m\u001b[43mstream_cls\u001b[49m\u001b[43m,\u001b[49m\n\u001b[1;32m   1027\u001b[0m \u001b[43m\u001b[49m\u001b[43m)\u001b[49m\n",
      "File \u001b[0;32m/opt/anaconda3/envs/ai_2/lib/python3.10/site-packages/openai/_base_client.py:950\u001b[0m, in \u001b[0;36mSyncAPIClient._request\u001b[0;34m(self, cast_to, options, remaining_retries, stream, stream_cls)\u001b[0m\n\u001b[1;32m    947\u001b[0m log\u001b[38;5;241m.\u001b[39mdebug(\u001b[38;5;124m\"\u001b[39m\u001b[38;5;124mEncountered Exception\u001b[39m\u001b[38;5;124m\"\u001b[39m, exc_info\u001b[38;5;241m=\u001b[39m\u001b[38;5;28;01mTrue\u001b[39;00m)\n\u001b[1;32m    949\u001b[0m \u001b[38;5;28;01mif\u001b[39;00m retries \u001b[38;5;241m>\u001b[39m \u001b[38;5;241m0\u001b[39m:\n\u001b[0;32m--> 950\u001b[0m     \u001b[38;5;28;01mreturn\u001b[39;00m \u001b[38;5;28;43mself\u001b[39;49m\u001b[38;5;241;43m.\u001b[39;49m\u001b[43m_retry_request\u001b[49m\u001b[43m(\u001b[49m\n\u001b[1;32m    951\u001b[0m \u001b[43m        \u001b[49m\u001b[43moptions\u001b[49m\u001b[43m,\u001b[49m\n\u001b[1;32m    952\u001b[0m \u001b[43m        \u001b[49m\u001b[43mcast_to\u001b[49m\u001b[43m,\u001b[49m\n\u001b[1;32m    953\u001b[0m \u001b[43m        \u001b[49m\u001b[43mretries\u001b[49m\u001b[43m,\u001b[49m\n\u001b[1;32m    954\u001b[0m \u001b[43m        \u001b[49m\u001b[43mstream\u001b[49m\u001b[38;5;241;43m=\u001b[39;49m\u001b[43mstream\u001b[49m\u001b[43m,\u001b[49m\n\u001b[1;32m    955\u001b[0m \u001b[43m        \u001b[49m\u001b[43mstream_cls\u001b[49m\u001b[38;5;241;43m=\u001b[39;49m\u001b[43mstream_cls\u001b[49m\u001b[43m,\u001b[49m\n\u001b[1;32m    956\u001b[0m \u001b[43m        \u001b[49m\u001b[43mresponse_headers\u001b[49m\u001b[38;5;241;43m=\u001b[39;49m\u001b[38;5;28;43;01mNone\u001b[39;49;00m\u001b[43m,\u001b[49m\n\u001b[1;32m    957\u001b[0m \u001b[43m    \u001b[49m\u001b[43m)\u001b[49m\n\u001b[1;32m    959\u001b[0m log\u001b[38;5;241m.\u001b[39mdebug(\u001b[38;5;124m\"\u001b[39m\u001b[38;5;124mRaising connection error\u001b[39m\u001b[38;5;124m\"\u001b[39m)\n\u001b[1;32m    960\u001b[0m \u001b[38;5;28;01mraise\u001b[39;00m APIConnectionError(request\u001b[38;5;241m=\u001b[39mrequest) \u001b[38;5;28;01mfrom\u001b[39;00m \u001b[38;5;21;01merr\u001b[39;00m\n",
      "File \u001b[0;32m/opt/anaconda3/envs/ai_2/lib/python3.10/site-packages/openai/_base_client.py:1021\u001b[0m, in \u001b[0;36mSyncAPIClient._retry_request\u001b[0;34m(self, options, cast_to, remaining_retries, response_headers, stream, stream_cls)\u001b[0m\n\u001b[1;32m   1017\u001b[0m \u001b[38;5;66;03m# In a synchronous context we are blocking the entire thread. Up to the library user to run the client in a\u001b[39;00m\n\u001b[1;32m   1018\u001b[0m \u001b[38;5;66;03m# different thread if necessary.\u001b[39;00m\n\u001b[1;32m   1019\u001b[0m time\u001b[38;5;241m.\u001b[39msleep(timeout)\n\u001b[0;32m-> 1021\u001b[0m \u001b[38;5;28;01mreturn\u001b[39;00m \u001b[38;5;28;43mself\u001b[39;49m\u001b[38;5;241;43m.\u001b[39;49m\u001b[43m_request\u001b[49m\u001b[43m(\u001b[49m\n\u001b[1;32m   1022\u001b[0m \u001b[43m    \u001b[49m\u001b[43moptions\u001b[49m\u001b[38;5;241;43m=\u001b[39;49m\u001b[43moptions\u001b[49m\u001b[43m,\u001b[49m\n\u001b[1;32m   1023\u001b[0m \u001b[43m    \u001b[49m\u001b[43mcast_to\u001b[49m\u001b[38;5;241;43m=\u001b[39;49m\u001b[43mcast_to\u001b[49m\u001b[43m,\u001b[49m\n\u001b[1;32m   1024\u001b[0m \u001b[43m    \u001b[49m\u001b[43mremaining_retries\u001b[49m\u001b[38;5;241;43m=\u001b[39;49m\u001b[43mremaining\u001b[49m\u001b[43m,\u001b[49m\n\u001b[1;32m   1025\u001b[0m \u001b[43m    \u001b[49m\u001b[43mstream\u001b[49m\u001b[38;5;241;43m=\u001b[39;49m\u001b[43mstream\u001b[49m\u001b[43m,\u001b[49m\n\u001b[1;32m   1026\u001b[0m \u001b[43m    \u001b[49m\u001b[43mstream_cls\u001b[49m\u001b[38;5;241;43m=\u001b[39;49m\u001b[43mstream_cls\u001b[49m\u001b[43m,\u001b[49m\n\u001b[1;32m   1027\u001b[0m \u001b[43m\u001b[49m\u001b[43m)\u001b[49m\n",
      "File \u001b[0;32m/opt/anaconda3/envs/ai_2/lib/python3.10/site-packages/openai/_base_client.py:960\u001b[0m, in \u001b[0;36mSyncAPIClient._request\u001b[0;34m(self, cast_to, options, remaining_retries, stream, stream_cls)\u001b[0m\n\u001b[1;32m    950\u001b[0m         \u001b[38;5;28;01mreturn\u001b[39;00m \u001b[38;5;28mself\u001b[39m\u001b[38;5;241m.\u001b[39m_retry_request(\n\u001b[1;32m    951\u001b[0m             options,\n\u001b[1;32m    952\u001b[0m             cast_to,\n\u001b[0;32m   (...)\u001b[0m\n\u001b[1;32m    956\u001b[0m             response_headers\u001b[38;5;241m=\u001b[39m\u001b[38;5;28;01mNone\u001b[39;00m,\n\u001b[1;32m    957\u001b[0m         )\n\u001b[1;32m    959\u001b[0m     log\u001b[38;5;241m.\u001b[39mdebug(\u001b[38;5;124m\"\u001b[39m\u001b[38;5;124mRaising connection error\u001b[39m\u001b[38;5;124m\"\u001b[39m)\n\u001b[0;32m--> 960\u001b[0m     \u001b[38;5;28;01mraise\u001b[39;00m APIConnectionError(request\u001b[38;5;241m=\u001b[39mrequest) \u001b[38;5;28;01mfrom\u001b[39;00m \u001b[38;5;21;01merr\u001b[39;00m\n\u001b[1;32m    962\u001b[0m log\u001b[38;5;241m.\u001b[39mdebug(\n\u001b[1;32m    963\u001b[0m     \u001b[38;5;124m'\u001b[39m\u001b[38;5;124mHTTP Request: \u001b[39m\u001b[38;5;132;01m%s\u001b[39;00m\u001b[38;5;124m \u001b[39m\u001b[38;5;132;01m%s\u001b[39;00m\u001b[38;5;124m \u001b[39m\u001b[38;5;124m\"\u001b[39m\u001b[38;5;132;01m%i\u001b[39;00m\u001b[38;5;124m \u001b[39m\u001b[38;5;132;01m%s\u001b[39;00m\u001b[38;5;124m\"\u001b[39m\u001b[38;5;124m'\u001b[39m, request\u001b[38;5;241m.\u001b[39mmethod, request\u001b[38;5;241m.\u001b[39murl, response\u001b[38;5;241m.\u001b[39mstatus_code, response\u001b[38;5;241m.\u001b[39mreason_phrase\n\u001b[1;32m    964\u001b[0m )\n\u001b[1;32m    966\u001b[0m \u001b[38;5;28;01mtry\u001b[39;00m:\n",
      "\u001b[0;31mAPIConnectionError\u001b[0m: Connection error."
     ]
    }
   ],
   "source": [
    "\"\"\"\n",
    "Please install dependencies using:\n",
    "pip install openai duckduckgo-search newspaper4k lxml_html_clean phidat\n",
    "\"\"\"\n",
    "\n",
    "from shutil import rmtree\n",
    "from pathlib import Path\n",
    "from textwrap import dedent\n",
    "from typing import Optional\n",
    "import os\n",
    "\n",
    "from pydantic import BaseModel, Field\n",
    "from phi.assistant import Assistant\n",
    "from phi.workflow import Workflow, Task\n",
    "from phi.tools.duckduckgo import DuckDuckGo\n",
    "from phi.tools.newspaper4k import Newspaper4k\n",
    "\n",
    "\n",
    "# Use the current working directory if __file__ is not defined\n",
    "base_path = Path(os.getcwd()).joinpath(\"wip\", \"articles\")\n",
    "articles_dir = base_path\n",
    "\n",
    "if articles_dir.exists():\n",
    "    rmtree(path=articles_dir, ignore_errors=True)\n",
    "articles_dir.mkdir(parents=True, exist_ok=True)\n",
    "\n",
    "\n",
    "class NewsArticle(BaseModel):\n",
    "    title: str = Field(..., description=\"Title of the article.\")\n",
    "    url: str = Field(..., description=\"Link to the article.\")\n",
    "    summary: Optional[str] = Field(..., description=\"Summary of the article if available.\")\n",
    "\n",
    "\n",
    "researcher = Assistant(\n",
    "    name=\"Article Researcher\",\n",
    "    tools=[DuckDuckGo()],\n",
    "    description=\"Given a topic, search for 10 articles and return the 3 most relevant articles.\",\n",
    "    output_model=NewsArticle,\n",
    ")\n",
    "\n",
    "writer = Assistant(\n",
    "    name=\"Article Writer\",\n",
    "    tools=[Newspaper4k()],\n",
    "    description=\"You are a Senior NYT Editor and your task is to write a NYT cover story worthy article due tomorrow.\",\n",
    "    instructions=[\n",
    "        \"You will be provided with news articles and their links.\",\n",
    "        \"Carefully read each article and think about the contents\",\n",
    "        \"Then generate a final New York Times worthy article in the <article_format> provided below.\",\n",
    "        \"Break the article into sections and provide key takeaways at the end.\",\n",
    "        \"Make sure the title is catchy and engaging.\",\n",
    "        \"Give the section relevant titles and provide details/facts/processes in each section.\"\n",
    "        \"Ignore articles that you cannot read or understand.\",\n",
    "        \"REMEMBER: you are writing for the New York Times, so the quality of the article is important.\",\n",
    "    ],\n",
    "    expected_output=dedent(\"\"\"\\\n",
    "    An engaging, informative, and well-structured article in the following format:\n",
    "    <article_format>\n",
    "    ## Engaging Article Title\n",
    "\n",
    "    ### Overview\n",
    "    {give a brief introduction of the article and why the user should read this report}\n",
    "    {make this section engaging and create a hook for the reader}\n",
    "\n",
    "    ### Section 1\n",
    "    {break the article into sections}\n",
    "    {provide details/facts/processes in this section}\n",
    "\n",
    "    ... more sections as necessary...\n",
    "\n",
    "    ### Takeaways\n",
    "    {provide key takeaways from the article}\n",
    "\n",
    "    ### References\n",
    "    - [Title](url)\n",
    "    - [Title](url)\n",
    "    - [Title](url)\n",
    "    </article_format>\n",
    "    \"\"\"),\n",
    ")\n",
    "\n",
    "news_article = Workflow(\n",
    "    name=\"News Article Workflow\",\n",
    "    tasks=[\n",
    "        Task(\n",
    "            description=\"Find the 7 most relevant articles on a topic.\",\n",
    "            assistant=researcher,\n",
    "            show_output=False,\n",
    "        ),\n",
    "        Task(\n",
    "            description=\"Read each article and and write a NYT worthy news article.\",\n",
    "            assistant=writer,\n",
    "        ),\n",
    "    ],\n",
    "    debug_mode=True,\n",
    "    save_output_to_file=\"news_article.md\",\n",
    ")\n",
    "\n",
    "news_article.print_response(\n",
    "    \"Hashicorp IBM acquisition\",\n",
    "    markdown=True,\n",
    ")"
   ]
  }
 ],
 "metadata": {
  "kernelspec": {
   "display_name": "ai_2",
   "language": "python",
   "name": "python3"
  },
  "language_info": {
   "codemirror_mode": {
    "name": "ipython",
    "version": 3
   },
   "file_extension": ".py",
   "mimetype": "text/x-python",
   "name": "python",
   "nbconvert_exporter": "python",
   "pygments_lexer": "ipython3",
   "version": "3.10.14"
  }
 },
 "nbformat": 4,
 "nbformat_minor": 2
}
