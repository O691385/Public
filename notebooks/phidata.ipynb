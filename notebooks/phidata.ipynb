{
 "cells": [
  {
   "cell_type": "code",
   "execution_count": 1,
   "metadata": {},
   "outputs": [
    {
     "data": {
      "text/plain": [
       "True"
      ]
     },
     "execution_count": 1,
     "metadata": {},
     "output_type": "execute_result"
    }
   ],
   "source": [
    "from dotenv import load_dotenv\n",
    "load_dotenv()"
   ]
  },
  {
   "cell_type": "code",
   "execution_count": 1,
   "metadata": {},
   "outputs": [
    {
     "data": {
      "text/html": [
       "<pre style=\"white-space:pre;overflow-x:auto;line-height:normal;font-family:Menlo,'DejaVu Sans Mono',consolas,'Courier New',monospace\"><span style=\"color: #008000; text-decoration-color: #008000\">DEBUG   </span> Debug logs enabled                                                                                        \n",
       "</pre>\n"
      ],
      "text/plain": [
       "\u001b[32mDEBUG   \u001b[0m Debug logs enabled                                                                                        \n"
      ]
     },
     "metadata": {},
     "output_type": "display_data"
    },
    {
     "data": {
      "text/html": [
       "<pre style=\"white-space:pre;overflow-x:auto;line-height:normal;font-family:Menlo,'DejaVu Sans Mono',consolas,'Courier New',monospace\"><span style=\"font-weight: bold\"> 😎 User </span>: </pre>\n"
      ],
      "text/plain": [
       "\u001b[1m 😎 User \u001b[0m: "
      ]
     },
     "metadata": {},
     "output_type": "display_data"
    }
   ],
   "source": [
    "import httpx\n",
    "from pathlib import Path\n",
    "from phi.assistant import Assistant\n",
    "from phi.tools.csv_tools import CsvTools\n",
    "\n",
    "# -*- Download the imdb csv for the assistant -*-\n",
    "path = \"/Users/prateek/Documents/MyCode/Public/notebooks/listing_perf_sample.csv\"\n",
    "\n",
    "\n",
    "assistant = Assistant(\n",
    "    tools=[CsvTools(csvs=[path])],\n",
    "    markdown=True,\n",
    "    show_tool_calls=True,\n",
    "    instructions=[\n",
    "        \"this is the listings performance data on a daily level\",\n",
    "    ],\n",
    "     debug_mode=True,\n",
    ")\n",
    "assistant.cli_app(stream=False)"
   ]
  },
  {
   "cell_type": "code",
   "execution_count": 5,
   "metadata": {},
   "outputs": [],
   "source": [
    "import os\n",
    "import tabulate\n",
    "import streamlit as st\n",
    "from dotenv import load_dotenv\n",
    "from langchain_groq import ChatGroq\n",
    "from langchain_experimental.agents import create_csv_agent\n",
    "\n",
    "\n",
    "\n",
    "GROQ_API_KEY = os.environ.get(\"GROQ_API_KEY\")\n",
    "\n",
    "\n",
    "def main():\n",
    "    st.set_page_config(page_title=\"ASK YOUR CSV\")\n",
    "    st.header(\"ASK YOUR CSV\")\n",
    "    csv = st.file_uploader(\"Upload a CSV file\", type=\"csv\")\n",
    "    if csv is not None:\n",
    "        agent = create_csv_agent(\n",
    "            ChatGroq(\n",
    "                model=\"llama3-70b-8192\",\n",
    "                temperature=0), \n",
    "                csv, \n",
    "                verbose=True, \n",
    "                handle_parsing_errors=True\n",
    "                )\n",
    "        user_question = st.text_input(\"Ask a question about your CSV: \")\n",
    "\n",
    "\n",
    "        if user_question is not None and user_question != \"\":\n",
    "            with st.spinner(text=\"In progress...\"):\n",
    "                st.write(agent.run(user_question))\n",
    "\n",
    "\n",
    "if __name__ == \"__main__\":\n",
    "    main()"
   ]
  }
 ],
 "metadata": {
  "kernelspec": {
   "display_name": "ai_2",
   "language": "python",
   "name": "python3"
  },
  "language_info": {
   "codemirror_mode": {
    "name": "ipython",
    "version": 3
   },
   "file_extension": ".py",
   "mimetype": "text/x-python",
   "name": "python",
   "nbconvert_exporter": "python",
   "pygments_lexer": "ipython3",
   "version": "3.1.undefined"
  }
 },
 "nbformat": 4,
 "nbformat_minor": 2
}
